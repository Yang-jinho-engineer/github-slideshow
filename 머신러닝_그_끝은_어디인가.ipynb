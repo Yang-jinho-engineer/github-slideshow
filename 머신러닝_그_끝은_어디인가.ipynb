{
  "nbformat": 4,
  "nbformat_minor": 0,
  "metadata": {
    "colab": {
      "name": "머신러닝 그 끝은 어디인가...ipynb의 사본",
      "provenance": [],
      "collapsed_sections": [],
      "authorship_tag": "ABX9TyNZ1YQWJFGsdV0dQG6Rk9jP",
      "include_colab_link": true
    },
    "kernelspec": {
      "name": "python3",
      "display_name": "Python 3"
    },
    "language_info": {
      "name": "python"
    }
  },
  "cells": [
    {
      "cell_type": "markdown",
      "metadata": {
        "id": "view-in-github",
        "colab_type": "text"
      },
      "source": [
        "<a href=\"https://colab.research.google.com/github/Yang-jinho-engineer/github-slideshow/blob/master/%EB%A8%B8%EC%8B%A0%EB%9F%AC%EB%8B%9D_%EA%B7%B8_%EB%81%9D%EC%9D%80_%EC%96%B4%EB%94%94%EC%9D%B8%EA%B0%80.ipynb\" target=\"_parent\"><img src=\"https://colab.research.google.com/assets/colab-badge.svg\" alt=\"Open In Colab\"/></a>"
      ]
    },
    {
      "cell_type": "code",
      "metadata": {
        "id": "2-CYfxy37fiE"
      },
      "source": [
        "지도(supervised) 출력값을 예측 \n",
        "입력과 정답 데이터로 학습 : 정확한 출력 예측하자! 노력과 자원이 필요하지만 높은 성능이 나온다\n",
        "데이터를 모두 labeling 해야 한다"
      ],
      "execution_count": null,
      "outputs": []
    },
    {
      "cell_type": "code",
      "metadata": {
        "id": "1bvsepJx8Uce"
      },
      "source": [
        "분류와 회귀\n",
        "분류classification : 미리 정의된 class중 하나로 예측 2개면 binary, 3개 이상이면 multi-class \n",
        "회귀regression : 연속적인 숫자를 예측 출력값이 연속성을 갖는 수(나이, 농작물의 수확량, 주식 가격 )"
      ],
      "execution_count": null,
      "outputs": []
    },
    {
      "cell_type": "code",
      "metadata": {
        "id": "-03CV86l8UqI"
      },
      "source": [
        "지도학습 알고리즘\n",
        "선형 회귀, 로지스틱 회귀, 서포트 벡터 머신(SVM), k-최근접 이웃, 결정 트리, 앙상블, 신경망(Neural Network)"
      ],
      "execution_count": null,
      "outputs": []
    },
    {
      "cell_type": "code",
      "metadata": {
        "id": "JQ-lYt438U00"
      },
      "source": [
        "비지도 학습(unsupervised) 출력이 없다 정답이 없다\n",
        "목적 : 입력 데이터의 구조나 패턴 찾기(방대한 데이터에서 유용한 통찰력)\n"
      ],
      "execution_count": null,
      "outputs": []
    },
    {
      "cell_type": "code",
      "metadata": {
        "id": "QOtj4adk8U9p"
      },
      "source": [
        "비지도 학습 알고리즘\n",
        "1.클러스터링(Clustering)\n",
        "공간 상 서로 가깝고 유사한 데이터들을 묶는다(그룹화, 군집 형성)\n",
        "k-Means(k개의 클러스터 찾기), DBSCAN(밀도, 밀집된 구분의 클러스터), 계층 군집 분석(HCA), \n",
        "이상치 탐지(outlier detection) : 신용카드, 다른 패턴으로 결제되면 도난이나 해킹을 찾을 수 있다, 특이값 감지(novelty) \n",
        "2.차원 축소(Dimensionality Reduction)\n",
        "고차원의 데이터를 저차원으로 차원 축소 조건 : 고차원의 중요한 정보를 지켜야 한다(오랜 시간 소요되므로 줄여야한다), 데이터 손실 최소화\n",
        "주성분 분석(PCA) : 데이터의 주성분을 찾고 그것을 기반으로 차원 축소, 커널(kernel) PCA, t-SNE : 시각화에서도 사용, 확률적으로 stochastic하게 차원축소\n",
        "3.연관 규칙(Association Rules) \n",
        "데이터의 특성 간의 연관성, 흥미로운 규칙이 나온다\n",
        "Apriori, Elcat"
      ],
      "execution_count": null,
      "outputs": []
    },
    {
      "cell_type": "code",
      "metadata": {
        "id": "b1JP3q44-V7K"
      },
      "source": [
        "준지도 학습(Semi-)\n",
        "label(레이블, 정답)이 있는 것과 없는 것의 혼합 \n",
        "일부 데이터만 레이블이 있습니다(레이블은 사람들의 노고로 만들어집니다)\n",
        "비지도 + 지도 학습\n",
        "일단 비지도 하고 결과로 지도 학습 돌리기"
      ],
      "execution_count": null,
      "outputs": []
    },
    {
      "cell_type": "code",
      "metadata": {
        "id": "-6vW2dwQ-WGT"
      },
      "source": [
        "강화학습(feedback 기반, label 별 필요없다)\n",
        "동적 환경과 함께 상호 작용하는 피드백 기반 학습 방법\n",
        "에이전트가 환경을 관찰하고 행동을 실행하고 보상(reward), 벌점(penalty)\n",
        "피드백을 쌓으며 자동으로 학습하고 성능을 향상 시킴\n",
        "어떤 지도가 없이 일정한 목표를 수행"
      ],
      "execution_count": null,
      "outputs": []
    },
    {
      "cell_type": "code",
      "metadata": {
        "id": "md70E0xT-WQF"
      },
      "source": [
        "온라인 vs 배치\n",
        "온라인 러닝 : 적은 데이터로 미니배치 단위로 점진적 학습 , 실시간 시스템, 메모리 부족 경우에\n",
        "배치 학습 : 전체 데이터를 모두 사용해서 오프라인으로 학습, 컴퓨터 자원이 풍부한 경우"
      ],
      "execution_count": null,
      "outputs": []
    },
    {
      "cell_type": "code",
      "metadata": {
        "id": "qp2JQt3P-WZJ"
      },
      "source": [
        "사례 기반 학습 vs 모델 기반 학습\n",
        "사례 기반(instance based) : 훈련 데이터를 학습하여 데이터를 기억, 데이터간 유사도 측정 ! 이를 기반으로 예측 \n",
        "새로운 데이터가 들어오면 학습된 데이터와 유사도 측정 이에 따라 예측\n",
        "모델 기반 (model based) : 훈련 데이터를 사용하여 모델을 훈련. 훈련된 모델을 가지고 새로운 데이터가 들어왔을 때 예측 "
      ],
      "execution_count": null,
      "outputs": []
    },
    {
      "cell_type": "code",
      "metadata": {
        "id": "EQ5UAsXABSQb"
      },
      "source": [
        "일반화(generalization) : 지도 학습 모델로 학습데이터로 훈련된 모델이 평가 데이터로 정확하게 예측하더라(처음보는 데이터도 잘 예측해준다) -> optimum이 존재\n",
        "과대적합(overfitting) : 모든 데이터를 다 반응하려고 한다(훈련 데이터는 다 좋아, 평가 데이터는 잘 안돼)\n",
        "과소적합(underfitting) : 훈련데이터에 비해 모델이 너무 간단하다 다양한 feature를 학습하지 못한다 : 훈련/평가 데이터 둘 다 못해\n",
        "\n",
        "데이터 수, 특징 수가 많다 = 다양성이 높다 : 복잡한 모델을 사용해야 한다\n",
        "데이터 셋의 크기를 늘리는 방법 : 같은 데이터 중복하거나 비슷한 데이터는 별로 흠 아니었던 거 같은데"
      ],
      "execution_count": null,
      "outputs": []
    },
    {
      "cell_type": "code",
      "metadata": {
        "id": "EZ32fpuYBSHT"
      },
      "source": [
        "훈련 세트 vs 테스트 세트 vs 검증 세트(일반화 성능 측정)\n",
        "training set: 학습하여 모델을 만든다\n",
        "하이퍼파라미터 : 알고리즘을 조절하기 위해 사전에 정의하는 파라미터 -> 훈련 방법을 결정해간다\n",
        "testing set :일반화 능력을 측정(훈련에는 사용x) \n",
        "validation set : 검증 \n",
        "\n",
        "training set을 cross validation으로 여러개로 나눈다 교차적으로 검증한다!\n"
      ],
      "execution_count": null,
      "outputs": []
    },
    {
      "cell_type": "code",
      "metadata": {
        "id": "QWgvtQZy-Wid"
      },
      "source": [
        ""
      ],
      "execution_count": null,
      "outputs": []
    },
    {
      "cell_type": "code",
      "metadata": {
        "id": "MPbW8DEg-Ws7"
      },
      "source": [
        ""
      ],
      "execution_count": null,
      "outputs": []
    },
    {
      "cell_type": "markdown",
      "metadata": {
        "id": "n9MGgJTw7ocN"
      },
      "source": [
        ""
      ]
    }
  ]
}