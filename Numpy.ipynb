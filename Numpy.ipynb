{
  "nbformat": 4,
  "nbformat_minor": 0,
  "metadata": {
    "colab": {
      "name": "Numpy",
      "provenance": [],
      "authorship_tag": "ABX9TyOj24xfzdCiOMV2VphwSFz3",
      "include_colab_link": true
    },
    "kernelspec": {
      "name": "python3",
      "display_name": "Python 3"
    },
    "language_info": {
      "name": "python"
    }
  },
  "cells": [
    {
      "cell_type": "markdown",
      "metadata": {
        "id": "view-in-github",
        "colab_type": "text"
      },
      "source": [
        "<a href=\"https://colab.research.google.com/github/Yang-jinho-engineer/github-slideshow/blob/master/Numpy.ipynb\" target=\"_parent\"><img src=\"https://colab.research.google.com/assets/colab-badge.svg\" alt=\"Open In Colab\"/></a>"
      ]
    },
    {
      "cell_type": "code",
      "metadata": {
        "id": "lrldbWZ4yt-G"
      },
      "source": [
        "import numpy as np"
      ],
      "execution_count": null,
      "outputs": []
    },
    {
      "cell_type": "code",
      "metadata": {
        "colab": {
          "base_uri": "https://localhost:8080/"
        },
        "id": "xToO1OhfyyDh",
        "outputId": "8850c55e-2f82-4370-9bbc-d6caa84e0fa0"
      },
      "source": [
        "a1 = np.array([1,2,3,4,5])\n",
        "print(type(a1))\n",
        "a2 = np.array([ [ 1,2,3], [4,5,6], [7,8,9]]) \n",
        "a3 = np.array( [ [ [ 1,2,3], [4,5,6], [7,8,9] ], [ [ 1,2,3], [4,5,6], [7,8,9] ], [ [ 1,2,3], [4,5,6], [7,8,9] ]] ) "
      ],
      "execution_count": null,
      "outputs": [
        {
          "output_type": "stream",
          "text": [
            "<class 'numpy.ndarray'>\n"
          ],
          "name": "stdout"
        }
      ]
    },
    {
      "cell_type": "code",
      "metadata": {
        "colab": {
          "base_uri": "https://localhost:8080/"
        },
        "id": "W-n7xI-XzAHx",
        "outputId": "915f77c7-c4ac-4e90-c080-2141e12dfd9d"
      },
      "source": [
        "np.arange(0, 30, 2) #정수 범위로 배열 생성"
      ],
      "execution_count": null,
      "outputs": [
        {
          "output_type": "execute_result",
          "data": {
            "text/plain": [
              "array([ 0,  2,  4,  6,  8, 10, 12, 14, 16, 18, 20, 22, 24, 26, 28])"
            ]
          },
          "metadata": {
            "tags": []
          },
          "execution_count": 5
        }
      ]
    },
    {
      "cell_type": "code",
      "metadata": {
        "colab": {
          "base_uri": "https://localhost:8080/"
        },
        "id": "GMOZSZhwzIGe",
        "outputId": "994fd73c-d6aa-4a08-d5d2-a27799cc4573"
      },
      "source": [
        "np.linspace(0,1,5) #균등한 범위"
      ],
      "execution_count": null,
      "outputs": [
        {
          "output_type": "execute_result",
          "data": {
            "text/plain": [
              "array([0.  , 0.25, 0.5 , 0.75, 1.  ])"
            ]
          },
          "metadata": {
            "tags": []
          },
          "execution_count": 6
        }
      ]
    },
    {
      "cell_type": "code",
      "metadata": {
        "colab": {
          "base_uri": "https://localhost:8080/"
        },
        "id": "nEutiVlIzTBj",
        "outputId": "03479738-a34a-4ad4-a8a3-b56e328f8f6e"
      },
      "source": [
        "np.logspace(0.1, 1, 20) #균등한 로그 스케일"
      ],
      "execution_count": null,
      "outputs": [
        {
          "output_type": "execute_result",
          "data": {
            "text/plain": [
              "array([ 1.25892541,  1.40400425,  1.565802  ,  1.74624535,  1.94748304,\n",
              "        2.1719114 ,  2.42220294,  2.70133812,  3.0126409 ,  3.35981829,\n",
              "        3.74700446,  4.17881006,  4.66037703,  5.19743987,  5.79639395,\n",
              "        6.46437163,  7.2093272 ,  8.04013161,  8.9666781 , 10.        ])"
            ]
          },
          "metadata": {
            "tags": []
          },
          "execution_count": 7
        }
      ]
    },
    {
      "cell_type": "code",
      "metadata": {
        "colab": {
          "base_uri": "https://localhost:8080/"
        },
        "id": "MJIzIqm4zY3L",
        "outputId": "0ae3fdf3-0584-45e6-aaf4-20957552b37c"
      },
      "source": [
        "#랜덤값 \n",
        "np.random.random((3,3)) #shape만 만들자 실수"
      ],
      "execution_count": null,
      "outputs": [
        {
          "output_type": "execute_result",
          "data": {
            "text/plain": [
              "array([[0.89331379, 0.35875497, 0.44172621],\n",
              "       [0.98913291, 0.37596643, 0.30493033],\n",
              "       [0.19455027, 0.79773476, 0.09231718]])"
            ]
          },
          "metadata": {
            "tags": []
          },
          "execution_count": 8
        }
      ]
    },
    {
      "cell_type": "code",
      "metadata": {
        "id": "l1wXbLF80EUU",
        "colab": {
          "base_uri": "https://localhost:8080/"
        },
        "outputId": "617e6359-4961-4266-af6c-448f839bd314"
      },
      "source": [
        "#정규 분포, 평균, 분산\n",
        "np.random.normal(0, 1, (3,3))"
      ],
      "execution_count": null,
      "outputs": [
        {
          "output_type": "execute_result",
          "data": {
            "text/plain": [
              "array([[-0.38336842, -0.08213935,  1.89016409],\n",
              "       [ 0.99048186, -1.54324068, -0.40316597],\n",
              "       [ 0.48621354,  0.41292635,  0.57707655]])"
            ]
          },
          "metadata": {
            "tags": []
          },
          "execution_count": 12
        }
      ]
    },
    {
      "cell_type": "code",
      "metadata": {
        "colab": {
          "base_uri": "https://localhost:8080/"
        },
        "id": "kgbvJkwv00Z9",
        "outputId": "dc0fa72e-5041-4a0b-82f4-50615279b765"
      },
      "source": [
        "#균등 분포\n",
        "np.random.rand(3, 3)"
      ],
      "execution_count": null,
      "outputs": [
        {
          "output_type": "execute_result",
          "data": {
            "text/plain": [
              "array([[0.10354966, 0.12020816, 0.22027314],\n",
              "       [0.56423039, 0.52486285, 0.53539684],\n",
              "       [0.3501586 , 0.14722678, 0.30924876]])"
            ]
          },
          "metadata": {
            "tags": []
          },
          "execution_count": 13
        }
      ]
    },
    {
      "cell_type": "code",
      "metadata": {
        "colab": {
          "base_uri": "https://localhost:8080/"
        },
        "id": "ymz09Ze_087u",
        "outputId": "14ba0431-9829-42d3-a276-1cf7d79d8df1"
      },
      "source": [
        "#표준 정규 분포\n",
        "np.random.randn(3,3)"
      ],
      "execution_count": null,
      "outputs": [
        {
          "output_type": "execute_result",
          "data": {
            "text/plain": [
              "array([[-0.14268739,  1.32752432,  0.01581579],\n",
              "       [-2.51235477,  0.64535987, -0.17696883],\n",
              "       [ 1.19910632,  0.49354634,  0.96330872]])"
            ]
          },
          "metadata": {
            "tags": []
          },
          "execution_count": 14
        }
      ]
    },
    {
      "cell_type": "code",
      "metadata": {
        "colab": {
          "base_uri": "https://localhost:8080/"
        },
        "id": "wILkl2yj1CKH",
        "outputId": "64af61ed-5b38-47a9-adba-7cfc847daedd"
      },
      "source": [
        "#표준 데이터 타입 bool, int, intc(c언어와 동일) uint(unsigned), float16, complex64, \n",
        "np.zeros(20, dtype=int)\n",
        "np.ones((3,3), dtype=bool)\n",
        "np.full((3,3),1.0,dtype=float)"
      ],
      "execution_count": null,
      "outputs": [
        {
          "output_type": "execute_result",
          "data": {
            "text/plain": [
              "array([[1., 1., 1.],\n",
              "       [1., 1., 1.],\n",
              "       [1., 1., 1.]])"
            ]
          },
          "metadata": {
            "tags": []
          },
          "execution_count": 17
        }
      ]
    },
    {
      "cell_type": "code",
      "metadata": {
        "colab": {
          "base_uri": "https://localhost:8080/"
        },
        "id": "Ww1xsQdF01wI",
        "outputId": "c69630b1-b4af-4efb-e59e-d2b03f714a16"
      },
      "source": [
        "#날짜, 시간 배열 절대적, 상대적 시간 범위\n",
        "date = np.array('2020-01-01', dtype=np.datetime64) #문자열도 날짜인걸 안다\n",
        "date + np.arange(12) # 01, 2,3,1까지 더한 날짜를 보여준다"
      ],
      "execution_count": null,
      "outputs": [
        {
          "output_type": "execute_result",
          "data": {
            "text/plain": [
              "array(['2020-01-01', '2020-01-02', '2020-01-03', '2020-01-04',\n",
              "       '2020-01-05', '2020-01-06', '2020-01-07', '2020-01-08',\n",
              "       '2020-01-09', '2020-01-10', '2020-01-11', '2020-01-12'],\n",
              "      dtype='datetime64[D]')"
            ]
          },
          "metadata": {
            "tags": []
          },
          "execution_count": 22
        }
      ]
    },
    {
      "cell_type": "code",
      "metadata": {
        "colab": {
          "base_uri": "https://localhost:8080/"
        },
        "id": "ZWF0mEJQ01-6",
        "outputId": "1a90f171-e2f2-454c-8026-efa3af69c1c6"
      },
      "source": [
        "datetime = np.datetime64('2020-06-01 12:00:12.34', 'ns') #t시간도 가능 나노시간도 하려면 'ns' 추가\n",
        "datetime"
      ],
      "execution_count": null,
      "outputs": [
        {
          "output_type": "execute_result",
          "data": {
            "text/plain": [
              "numpy.datetime64('2020-06-01T12:00:12.340000000')"
            ]
          },
          "metadata": {
            "tags": []
          },
          "execution_count": 24
        }
      ]
    },
    {
      "cell_type": "code",
      "metadata": {
        "id": "tsmg7WRr02JI"
      },
      "source": [
        "#배열 속성 정보\n",
        "def array_info(array):\n",
        "  print(array)\n",
        "  print(\"ndim:\", array.ndim)\n",
        "  print(\"shape:\", array.shape)\n",
        "  print(\"dtype:\", array.dtype)\n",
        "  print(\"size:\", array.size)\n",
        "  print(\"item size:\", array.itemsize) #하나당 사이즈 int64이므로  8\n",
        "  print(\"nbytes:\", array.nbytes) #전체 바이트 크기\n",
        "  print(\"strides:\", array.strides) #다음 차원으로 넘어가기 위한... 요소가 넘어가는데 필요한 크기 "
      ],
      "execution_count": null,
      "outputs": []
    },
    {
      "cell_type": "code",
      "metadata": {
        "colab": {
          "base_uri": "https://localhost:8080/"
        },
        "id": "39ZYaac83YOp",
        "outputId": "69b4710a-0e42-480e-bf21-74af0ed22552"
      },
      "source": [
        "array_info(a1) "
      ],
      "execution_count": null,
      "outputs": [
        {
          "output_type": "stream",
          "text": [
            "[1 2 3 4 5]\n",
            "ndim: 1\n",
            "shape: (5,)\n",
            "dtype: int64\n",
            "size: 5\n",
            "item size: 8\n",
            "nbytes: 40\n",
            "strides: (8,)\n"
          ],
          "name": "stdout"
        }
      ]
    },
    {
      "cell_type": "code",
      "metadata": {
        "colab": {
          "base_uri": "https://localhost:8080/"
        },
        "id": "A8m8sNaz3cGM",
        "outputId": "6a167097-282b-4150-8bbe-0550566ce54b"
      },
      "source": [
        "array_info(a2) #9*8 다음 축으로 넘어갈 때 8*3을 넘어가야 하므로 strides 는 24"
      ],
      "execution_count": null,
      "outputs": [
        {
          "output_type": "stream",
          "text": [
            "[[1 2 3]\n",
            " [4 5 6]\n",
            " [7 8 9]]\n",
            "ndim: 2\n",
            "shape: (3, 3)\n",
            "dtype: int64\n",
            "size: 9\n",
            "item size: 8\n",
            "nbytes: 72\n",
            "strides: (24, 8)\n"
          ],
          "name": "stdout"
        }
      ]
    },
    {
      "cell_type": "code",
      "metadata": {
        "colab": {
          "base_uri": "https://localhost:8080/"
        },
        "id": "jRkcnwiJ02Td",
        "outputId": "cc7d966e-2e27-4fdc-9595-534b9e51d85a"
      },
      "source": [
        "array_info(a3) # 8*9 넘어가야 다음 차원, 안에서 다음 차원으로 가려면 8*3 : bytes의 크기를 알려준다"
      ],
      "execution_count": null,
      "outputs": [
        {
          "output_type": "stream",
          "text": [
            "[[[1 2 3]\n",
            "  [4 5 6]\n",
            "  [7 8 9]]\n",
            "\n",
            " [[1 2 3]\n",
            "  [4 5 6]\n",
            "  [7 8 9]]\n",
            "\n",
            " [[1 2 3]\n",
            "  [4 5 6]\n",
            "  [7 8 9]]]\n",
            "ndim: 3\n",
            "shape: (3, 3, 3)\n",
            "dtype: int64\n",
            "size: 27\n",
            "item size: 8\n",
            "nbytes: 216\n",
            "strides: (72, 24, 8)\n"
          ],
          "name": "stdout"
        }
      ]
    },
    {
      "cell_type": "code",
      "metadata": {
        "colab": {
          "base_uri": "https://localhost:8080/"
        },
        "id": "JV5OcU8n4SzF",
        "outputId": "9ae69c08-8483-4372-8503-5f040d6c1ef3"
      },
      "source": [
        "#indexing 배열에 대한 접근\n",
        "print(a1)\n",
        "print(a1[0])\n",
        "print(a1[-1])\n",
        "print(a1[-2]) #음수는 역으로 간다"
      ],
      "execution_count": null,
      "outputs": [
        {
          "output_type": "stream",
          "text": [
            "[1 2 3 4 5]\n",
            "1\n",
            "5\n",
            "4\n"
          ],
          "name": "stdout"
        }
      ]
    },
    {
      "cell_type": "code",
      "metadata": {
        "colab": {
          "base_uri": "https://localhost:8080/"
        },
        "id": "DXiMu8hv4S7e",
        "outputId": "e4b06a32-ebc7-47af-fc26-835274a87d15"
      },
      "source": [
        "print(a2)\n",
        "print(a2[0,-1])\n",
        "print(a2[1,1])"
      ],
      "execution_count": null,
      "outputs": [
        {
          "output_type": "stream",
          "text": [
            "[[1 2 3]\n",
            " [4 5 6]\n",
            " [7 8 9]]\n",
            "3\n",
            "5\n"
          ],
          "name": "stdout"
        }
      ]
    },
    {
      "cell_type": "code",
      "metadata": {
        "colab": {
          "base_uri": "https://localhost:8080/"
        },
        "id": "EQkPbjuH41M2",
        "outputId": "d63a623a-8308-424b-d55f-9e8deffde2d7"
      },
      "source": [
        "print(a3)\n",
        "print(a3[1,1,1])\n",
        "print(a3[2,-1,-1])"
      ],
      "execution_count": null,
      "outputs": [
        {
          "output_type": "stream",
          "text": [
            "[[[1 2 3]\n",
            "  [4 5 6]\n",
            "  [7 8 9]]\n",
            "\n",
            " [[1 2 3]\n",
            "  [4 5 6]\n",
            "  [7 8 9]]\n",
            "\n",
            " [[1 2 3]\n",
            "  [4 5 6]\n",
            "  [7 8 9]]]\n",
            "5\n",
            "9\n"
          ],
          "name": "stdout"
        }
      ]
    },
    {
      "cell_type": "code",
      "metadata": {
        "colab": {
          "base_uri": "https://localhost:8080/"
        },
        "id": "l4pCGY2S4_tk",
        "outputId": "88a89385-3d28-4e1e-83a0-9dd3b5fb4954"
      },
      "source": [
        "#슬라이싱 a[start:stop:step]\n",
        "print(a1[0:])\n",
        "print(a1[:1]) #뒤에서 한개\n",
        "print(a1[::2]) #2씩 뛰어서\n",
        "print(a1[::-1]) #뒤에서부터 하나씩 revesre"
      ],
      "execution_count": null,
      "outputs": [
        {
          "output_type": "stream",
          "text": [
            "[1 2 3 4 5]\n",
            "[1]\n",
            "[1 3 5]\n",
            "[5 4 3 2 1]\n"
          ],
          "name": "stdout"
        }
      ]
    },
    {
      "cell_type": "code",
      "metadata": {
        "colab": {
          "base_uri": "https://localhost:8080/"
        },
        "id": "frMwGW5p8-iB",
        "outputId": "415c7a24-ac53-4689-ee10-7632b9d5198c"
      },
      "source": [
        "print(a2[1]) #1열만\n",
        "print(a2[1, :]) #:만 있으면 all\n",
        "print(a2[:2,:2]) #stop만 정의, 01, 01 1245만 출력\n",
        "print(a2[1:, ::-1]) #1부터니까 456789 -1로 했으니까 reverse로 출력\n",
        "print(a2[::-1,::-1]) #다 -1이면 아예 뒤집혀서 출력"
      ],
      "execution_count": null,
      "outputs": [
        {
          "output_type": "stream",
          "text": [
            "[4 5 6]\n",
            "[4 5 6]\n",
            "[[1 2]\n",
            " [4 5]]\n",
            "[[6 5 4]\n",
            " [9 8 7]]\n",
            "[[9 8 7]\n",
            " [6 5 4]\n",
            " [3 2 1]]\n"
          ],
          "name": "stdout"
        }
      ]
    },
    {
      "cell_type": "code",
      "metadata": {
        "colab": {
          "base_uri": "https://localhost:8080/"
        },
        "id": "Dk2ICTwt9UGc",
        "outputId": "4659bd0d-1d93-4540-8828-64d4530f7251"
      },
      "source": [
        "#불리언 인ㄱ덱싱(boolean indexing) 선택의 여부를 tf로 선택\n",
        "print(a1)\n",
        "bi = [False, True, True, False, True]\n",
        "print(a1[bi]) #true인 위치 값만 출력\n",
        "\n",
        "bi1 = np.random.randint(0,2,(3,3), dtype=bool) # 01중에 하나\n",
        "print(bi1)\n",
        "print(a2[bi1])"
      ],
      "execution_count": null,
      "outputs": [
        {
          "output_type": "stream",
          "text": [
            "[1 2 3 4 5]\n",
            "[2 3 5]\n",
            "[[ True  True False]\n",
            " [ True  True  True]\n",
            " [False  True False]]\n",
            "[1 2 4 5 6 8]\n"
          ],
          "name": "stdout"
        }
      ]
    },
    {
      "cell_type": "code",
      "metadata": {
        "colab": {
          "base_uri": "https://localhost:8080/"
        },
        "id": "wN_XaZl998k9",
        "outputId": "c73c60c8-84a3-4da0-e9d8-86d280354683"
      },
      "source": [
        "#fancy indexing\n",
        "print(a1[0], a1[2])\n",
        "ind = [0,2]\n",
        "print(a1[ind])\n",
        "ind = np.array([[0,1],[2,0]])\n",
        "print(a1[ind]) #1차원 배열에 2차원 인덱스를 넣으면 2차원으로 바뀐다"
      ],
      "execution_count": null,
      "outputs": [
        {
          "output_type": "stream",
          "text": [
            "1 3\n",
            "[1 3]\n",
            "[[1 2]\n",
            " [3 1]]\n"
          ],
          "name": "stdout"
        }
      ]
    },
    {
      "cell_type": "code",
      "metadata": {
        "colab": {
          "base_uri": "https://localhost:8080/"
        },
        "id": "jYewy33n-01H",
        "outputId": "28b87982-7066-4555-a411-f5e1d334f8ef"
      },
      "source": [
        "print(a2)\n",
        "row = np.array([0,2])\n",
        "col = np.array([1,2])\n",
        "print(a2[row, col]) #row는0, col은 1인 2와 2,2인 9만 나온다\n",
        "print(a2[row,:]) #row중 0과 2만 \n",
        "print(a2[:, col]) #col 1,2만 출력\n",
        "print(a2[2, col]) # 2열, 1,2번째만 출력"
      ],
      "execution_count": null,
      "outputs": [
        {
          "output_type": "stream",
          "text": [
            "[[1 2 3]\n",
            " [4 5 6]\n",
            " [7 8 9]]\n",
            "[2 9]\n",
            "[[1 2 3]\n",
            " [7 8 9]]\n",
            "[[2 3]\n",
            " [5 6]\n",
            " [8 9]]\n",
            "[8 9]\n"
          ],
          "name": "stdout"
        }
      ]
    },
    {
      "cell_type": "code",
      "metadata": {
        "colab": {
          "base_uri": "https://localhost:8080/"
        },
        "id": "aZgdn04g_AKN",
        "outputId": "19ba4c5c-0b50-485a-b842-96bde5d3580e"
      },
      "source": [
        "#배열 값 삽입/수정/삭제/복사\n",
        "#삽입 aixs지정 안하면 1차원 배열로 반환 , 원본 변경 없고 새로운 배열을 반환\n",
        "print(a1)\n",
        "b1  = np.insert(a1, 0, 10) #0번째 위치에 10을 삽입\n",
        "print(b1)\n",
        "print(a1)"
      ],
      "execution_count": null,
      "outputs": [
        {
          "output_type": "stream",
          "text": [
            "[1 2 3 4 5]\n",
            "[10  1  2  3  4  5]\n",
            "[1 2 3 4 5]\n"
          ],
          "name": "stdout"
        }
      ]
    },
    {
      "cell_type": "code",
      "metadata": {
        "colab": {
          "base_uri": "https://localhost:8080/"
        },
        "id": "Bm5UYPPhAFPc",
        "outputId": "cde0d824-41e4-4858-ae3f-38e7b57c69e9"
      },
      "source": [
        "print(a2)\n",
        "b2 = np.insert(a2,1,10,axis= 0) #축이 0이므로 \n",
        "print(b2)\n",
        "c2 = np.insert(a2, 1, 10, axis=1) #축이 col이 되었다\n",
        "print(c2)"
      ],
      "execution_count": null,
      "outputs": [
        {
          "output_type": "stream",
          "text": [
            "[[1 2 3]\n",
            " [4 5 6]\n",
            " [7 8 9]]\n",
            "[[ 1  2  3]\n",
            " [10 10 10]\n",
            " [ 4  5  6]\n",
            " [ 7  8  9]]\n",
            "[[ 1 10  2  3]\n",
            " [ 4 10  5  6]\n",
            " [ 7 10  8  9]]\n"
          ],
          "name": "stdout"
        }
      ]
    },
    {
      "cell_type": "code",
      "metadata": {
        "colab": {
          "base_uri": "https://localhost:8080/"
        },
        "id": "TF0t0OXw4yeg",
        "outputId": "a557b55b-46b5-41ae-868a-3b56b02b88b9"
      },
      "source": [
        "#인덱싱으로 접근하여 수정\n",
        "a1[0] = 1\n",
        "print(a1)\n",
        "a1[:1] = 9\n",
        "print(a1)\n",
        "i = np.array([1,3,4])\n",
        "a1[i] = 0\n",
        "print(a1)\n",
        "a1[i] += 4\n",
        "print(a1)"
      ],
      "execution_count": null,
      "outputs": [
        {
          "output_type": "stream",
          "text": [
            "[1 0 3 0 0]\n",
            "[9 0 3 0 0]\n",
            "[9 0 3 0 0]\n",
            "[9 4 3 4 4]\n"
          ],
          "name": "stdout"
        }
      ]
    },
    {
      "cell_type": "code",
      "metadata": {
        "colab": {
          "base_uri": "https://localhost:8080/"
        },
        "id": "Bwh8Y1A84TDu",
        "outputId": "73a7007a-5b63-4640-bf89-61c253de2e46"
      },
      "source": [
        "a2[0] = 1 #0번쨰 row다 1로 바뀜\n",
        "print(a2)\n",
        "a2[1:,2] = 9 #1뒤에 다 , col은 두번째 \n",
        "print(a2) \n",
        "row = np.array([0,1])\n",
        "col = np.array([1,2])\n",
        "a2[row, col] = 0\n",
        "print(a2) #특저 위치만 변경 가능"
      ],
      "execution_count": null,
      "outputs": [
        {
          "output_type": "stream",
          "text": [
            "[[1 1 1]\n",
            " [4 5 9]\n",
            " [7 8 9]]\n",
            "[[1 1 1]\n",
            " [4 5 9]\n",
            " [7 8 9]]\n",
            "[[1 0 1]\n",
            " [4 5 0]\n",
            " [7 8 9]]\n"
          ],
          "name": "stdout"
        }
      ]
    },
    {
      "cell_type": "code",
      "metadata": {
        "colab": {
          "base_uri": "https://localhost:8080/"
        },
        "id": "-_z19GUE4TLQ",
        "outputId": "3c70af13-b6e0-4ad5-b67c-09b3abf66bc7"
      },
      "source": [
        "#삭제 : 특정 위치 삭제, 새로운 삭제된 배열 나옴\n",
        "b1 = np.delete(a1,1)\n",
        "print(b1)\n",
        "print(a1)"
      ],
      "execution_count": null,
      "outputs": [
        {
          "output_type": "stream",
          "text": [
            "[9 3 4 4]\n",
            "[9 4 3 4 4]\n"
          ],
          "name": "stdout"
        }
      ]
    },
    {
      "cell_type": "code",
      "metadata": {
        "colab": {
          "base_uri": "https://localhost:8080/"
        },
        "id": "EzYvLksg4TTJ",
        "outputId": "9594f060-6c0e-48f1-f26c-382da1d64940"
      },
      "source": [
        "print(a2)\n",
        "b2 = np.delete(a2,1,axis=0)\n",
        "print(b2)\n",
        "c2 = np.delete(a2,1,axis=1)\n",
        "print(c2)"
      ],
      "execution_count": null,
      "outputs": [
        {
          "output_type": "stream",
          "text": [
            "[[1 0 1]\n",
            " [4 5 0]\n",
            " [7 8 9]]\n",
            "[[1 0 1]\n",
            " [7 8 9]]\n",
            "[[1 1]\n",
            " [4 0]\n",
            " [7 9]]\n"
          ],
          "name": "stdout"
        }
      ]
    },
    {
      "cell_type": "code",
      "metadata": {
        "colab": {
          "base_uri": "https://localhost:8080/"
        },
        "id": "YvK7xEcZB-vi",
        "outputId": "58144d1a-0063-4e0b-d153-9ab5237abf2d"
      },
      "source": [
        "#원본 배열은 안 바꾸면 속도가 더 빠르다\n",
        "#배열 복사: 배열의 슬라이스는 복사본이 아니다(원본 배열에 영향을 준다, 복사를 해서 사용해야 한다)\n",
        "print(a2)\n",
        "a2_sub_copy = a2[:2,:2].copy()\n",
        "print(a2_sub_copy)\n",
        "a2_sub_copy[:,1] = 1\n",
        "print(a2_sub_copy)\n",
        "print(a2) #1로 바뀌지 않는다"
      ],
      "execution_count": null,
      "outputs": [
        {
          "output_type": "stream",
          "text": [
            "[[1 0 1]\n",
            " [4 5 0]\n",
            " [7 8 9]]\n",
            "[[1 0]\n",
            " [4 5]]\n",
            "[[1 1]\n",
            " [4 1]]\n",
            "[[1 0 1]\n",
            " [4 5 0]\n",
            " [7 8 9]]\n"
          ],
          "name": "stdout"
        }
      ]
    },
    {
      "cell_type": "code",
      "metadata": {
        "colab": {
          "base_uri": "https://localhost:8080/"
        },
        "id": "1bgiLUegB-4B",
        "outputId": "583ca134-f33f-4269-e4a2-4cede7cd9bb8"
      },
      "source": [
        "#배열 변환\n",
        "#배열 전치\n",
        "print(a2)\n",
        "print(a2.T) #행과 열이 바뀜\n",
        "print(a3)\n",
        "print(a3.T)"
      ],
      "execution_count": null,
      "outputs": [
        {
          "output_type": "stream",
          "text": [
            "[[1 0 1]\n",
            " [4 5 0]\n",
            " [7 8 9]]\n",
            "[[1 4 7]\n",
            " [0 5 8]\n",
            " [1 0 9]]\n",
            "[[[1 2 3]\n",
            "  [4 5 6]\n",
            "  [7 8 9]]\n",
            "\n",
            " [[1 2 3]\n",
            "  [4 5 6]\n",
            "  [7 8 9]]\n",
            "\n",
            " [[1 2 3]\n",
            "  [4 5 6]\n",
            "  [7 8 9]]]\n",
            "[[[1 1 1]\n",
            "  [4 4 4]\n",
            "  [7 7 7]]\n",
            "\n",
            " [[2 2 2]\n",
            "  [5 5 5]\n",
            "  [8 8 8]]\n",
            "\n",
            " [[3 3 3]\n",
            "  [6 6 6]\n",
            "  [9 9 9]]]\n"
          ],
          "name": "stdout"
        }
      ]
    },
    {
      "cell_type": "code",
      "metadata": {
        "colab": {
          "base_uri": "https://localhost:8080/"
        },
        "id": "9Vn7klPWEXzm",
        "outputId": "0886e402-513f-4778-83f3-4d62dc2c3122"
      },
      "source": [
        "#축변경\n",
        "print(a2)\n",
        "print(a2.swapaxes(1,0))"
      ],
      "execution_count": null,
      "outputs": [
        {
          "output_type": "stream",
          "text": [
            "[[1 0 1]\n",
            " [4 5 0]\n",
            " [7 8 9]]\n",
            "[[1 4 7]\n",
            " [0 5 8]\n",
            " [1 0 9]]\n"
          ],
          "name": "stdout"
        }
      ]
    },
    {
      "cell_type": "code",
      "metadata": {
        "colab": {
          "base_uri": "https://localhost:8080/"
        },
        "id": "OhuyH8vdEX7q",
        "outputId": "b8ecc372-abd2-41c5-e03e-c44a76caa903"
      },
      "source": [
        "print(a3)\n",
        "print(a3.swapaxes(0,1))\n",
        "print(a3.swapaxes(1,2)) "
      ],
      "execution_count": null,
      "outputs": [
        {
          "output_type": "stream",
          "text": [
            "[[[1 2 3]\n",
            "  [4 5 6]\n",
            "  [7 8 9]]\n",
            "\n",
            " [[1 2 3]\n",
            "  [4 5 6]\n",
            "  [7 8 9]]\n",
            "\n",
            " [[1 2 3]\n",
            "  [4 5 6]\n",
            "  [7 8 9]]]\n",
            "[[[1 2 3]\n",
            "  [1 2 3]\n",
            "  [1 2 3]]\n",
            "\n",
            " [[4 5 6]\n",
            "  [4 5 6]\n",
            "  [4 5 6]]\n",
            "\n",
            " [[7 8 9]\n",
            "  [7 8 9]\n",
            "  [7 8 9]]]\n",
            "[[[1 4 7]\n",
            "  [2 5 8]\n",
            "  [3 6 9]]\n",
            "\n",
            " [[1 4 7]\n",
            "  [2 5 8]\n",
            "  [3 6 9]]\n",
            "\n",
            " [[1 4 7]\n",
            "  [2 5 8]\n",
            "  [3 6 9]]]\n"
          ],
          "name": "stdout"
        }
      ]
    },
    {
      "cell_type": "code",
      "metadata": {
        "colab": {
          "base_uri": "https://localhost:8080/"
        },
        "id": "W61aM9RNEX-b",
        "outputId": "62bbcd60-c5bb-4d09-8564-9ebfa2fd222f"
      },
      "source": [
        "#배열의 재구조화\n",
        "n1 = np.arange(1,10)\n",
        "print(n1)\n",
        "print(n1.reshape(3,3)) #2차원 배열로 변경"
      ],
      "execution_count": null,
      "outputs": [
        {
          "output_type": "stream",
          "text": [
            "[1 2 3 4 5 6 7 8 9]\n",
            "[[1 2 3]\n",
            " [4 5 6]\n",
            " [7 8 9]]\n"
          ],
          "name": "stdout"
        }
      ]
    },
    {
      "cell_type": "code",
      "metadata": {
        "colab": {
          "base_uri": "https://localhost:8080/"
        },
        "id": "H-T96qz5EYBK",
        "outputId": "1ff8220d-b9bb-40b7-ab0e-dcf40a9e5cd8"
      },
      "source": [
        "#축 추가\n",
        "print(n1)\n",
        "print(n1[np.newaxis, :5])\n",
        "print(n1[:5, np.newaxis])"
      ],
      "execution_count": null,
      "outputs": [
        {
          "output_type": "stream",
          "text": [
            "[1 2 3 4 5 6 7 8 9]\n",
            "[[1 2 3 4 5]]\n",
            "[[1]\n",
            " [2]\n",
            " [3]\n",
            " [4]\n",
            " [5]]\n"
          ],
          "name": "stdout"
        }
      ]
    },
    {
      "cell_type": "code",
      "metadata": {
        "id": "PF5-u7jnEYEK",
        "colab": {
          "base_uri": "https://localhost:8080/"
        },
        "outputId": "02bd1b7f-070b-4967-f512-756c9303e9ad"
      },
      "source": [
        "#배열 크기 변경\n",
        "#배열 모양만 변경\n",
        "n2 = np.random.randint(0,10,(2,5))\n",
        "print(n2)\n",
        "n2.resize((5,2))\n",
        "print(n2) #모양만 바뀜"
      ],
      "execution_count": 87,
      "outputs": [
        {
          "output_type": "stream",
          "text": [
            "[[2 9 9 6 9]\n",
            " [3 8 5 8 6]]\n",
            "[[2 9]\n",
            " [9 6]\n",
            " [9 3]\n",
            " [8 5]\n",
            " [8 6]]\n"
          ],
          "name": "stdout"
        }
      ]
    },
    {
      "cell_type": "code",
      "metadata": {
        "id": "xQBbZisSEYGx",
        "colab": {
          "base_uri": "https://localhost:8080/"
        },
        "outputId": "23432dc6-7274-4492-c34f-c01548908214"
      },
      "source": [
        "#배열 크기 증가\n",
        "n2.resize((5,5))\n",
        "print(n2) #남는 공간은 0으로 채워짐"
      ],
      "execution_count": 88,
      "outputs": [
        {
          "output_type": "stream",
          "text": [
            "[[2 9 9 6 9]\n",
            " [3 8 5 8 6]\n",
            " [0 0 0 0 0]\n",
            " [0 0 0 0 0]\n",
            " [0 0 0 0 0]]\n"
          ],
          "name": "stdout"
        }
      ]
    },
    {
      "cell_type": "code",
      "metadata": {
        "id": "CSDLYt5yEYJq",
        "colab": {
          "base_uri": "https://localhost:8080/"
        },
        "outputId": "dbc25cb9-2275-4dbe-b06f-14ddaad0c5f9"
      },
      "source": [
        "#줄여ㅑ, 나머지 삭제\n",
        "n2.resize((3,3))\n",
        "print(n2)"
      ],
      "execution_count": 89,
      "outputs": [
        {
          "output_type": "stream",
          "text": [
            "[[2 9 9]\n",
            " [6 9 3]\n",
            " [8 5 8]]\n"
          ],
          "name": "stdout"
        }
      ]
    },
    {
      "cell_type": "code",
      "metadata": {
        "id": "RDwRHRaKEYMP",
        "colab": {
          "base_uri": "https://localhost:8080/"
        },
        "outputId": "1158215b-1221-474d-d596-7546f116593f"
      },
      "source": [
        "#배열 추가\n",
        "a2 = np.arange(1, 10).reshape(3,3)\n",
        "print(a2)\n",
        "b2 = np.arange(10,19).reshape(3, 3)\n",
        "print(b2)"
      ],
      "execution_count": 90,
      "outputs": [
        {
          "output_type": "stream",
          "text": [
            "[[1 2 3]\n",
            " [4 5 6]\n",
            " [7 8 9]]\n",
            "[[10 11 12]\n",
            " [13 14 15]\n",
            " [16 17 18]]\n"
          ],
          "name": "stdout"
        }
      ]
    },
    {
      "cell_type": "code",
      "metadata": {
        "id": "Pgnu1PF0EYPD",
        "colab": {
          "base_uri": "https://localhost:8080/"
        },
        "outputId": "21d8bad0-9a45-4948-8972-770f33a5545e"
      },
      "source": [
        "c2 = np.append(a2, b2, axis=0)\n",
        "print(c2) #2차원이 1차원으로 변형됨(axis 지정이 없으면 1차원으로 준다)"
      ],
      "execution_count": 92,
      "outputs": [
        {
          "output_type": "stream",
          "text": [
            "[[ 1  2  3]\n",
            " [ 4  5  6]\n",
            " [ 7  8  9]\n",
            " [10 11 12]\n",
            " [13 14 15]\n",
            " [16 17 18]]\n"
          ],
          "name": "stdout"
        }
      ]
    },
    {
      "cell_type": "code",
      "metadata": {
        "id": "2H77SjeAEYRn",
        "colab": {
          "base_uri": "https://localhost:8080/"
        },
        "outputId": "af138b70-5a2c-47d9-e433-2ca3cf7ba62d"
      },
      "source": [
        "c2 = np.append(a2, b2, axis=1) #횡으로 붙는다\n",
        "print(c2)"
      ],
      "execution_count": 93,
      "outputs": [
        {
          "output_type": "stream",
          "text": [
            "[[ 1  2  3 10 11 12]\n",
            " [ 4  5  6 13 14 15]\n",
            " [ 7  8  9 16 17 18]]\n"
          ],
          "name": "stdout"
        }
      ]
    },
    {
      "cell_type": "code",
      "metadata": {
        "id": "ZiDP-VHcEYUz",
        "colab": {
          "base_uri": "https://localhost:8080/"
        },
        "outputId": "02e57dd0-6877-4eda-e56f-476cbaaf1057"
      },
      "source": [
        "#배열 연결, 튜플이나 리스트ㅡㄹ 인수로\n",
        "a1 = np.array([1,3,5])\n",
        "b1 = np.array([2,4,6])\n",
        "np.concatenate([a1, b1])"
      ],
      "execution_count": 96,
      "outputs": [
        {
          "output_type": "execute_result",
          "data": {
            "text/plain": [
              "array([1, 3, 5, 2, 4, 6])"
            ]
          },
          "metadata": {
            "tags": []
          },
          "execution_count": 96
        }
      ]
    },
    {
      "cell_type": "code",
      "metadata": {
        "id": "_NV1gl89B_A0",
        "colab": {
          "base_uri": "https://localhost:8080/"
        },
        "outputId": "7dfe41ce-7d1e-4077-d542-4aa14d977e76"
      },
      "source": [
        "c1 = np.array([7,8,9])\n",
        "np.concatenate([a1, b1, c1])"
      ],
      "execution_count": 97,
      "outputs": [
        {
          "output_type": "execute_result",
          "data": {
            "text/plain": [
              "array([1, 3, 5, 2, 4, 6, 7, 8, 9])"
            ]
          },
          "metadata": {
            "tags": []
          },
          "execution_count": 97
        }
      ]
    },
    {
      "cell_type": "code",
      "metadata": {
        "id": "LEQ-TsCPB_KH",
        "colab": {
          "base_uri": "https://localhost:8080/"
        },
        "outputId": "f0f6961e-335e-4308-ff63-dac3d362dd86"
      },
      "source": [
        "a2 = np.array([[1,2,3], [4,5,6]])\n",
        "np.concatenate([a2,a2]) #밑에 붙는다 axis=0\n",
        "np.concatenate([a2,a2], axis=1)"
      ],
      "execution_count": 100,
      "outputs": [
        {
          "output_type": "execute_result",
          "data": {
            "text/plain": [
              "array([[1, 2, 3, 1, 2, 3],\n",
              "       [4, 5, 6, 4, 5, 6]])"
            ]
          },
          "metadata": {
            "tags": []
          },
          "execution_count": 100
        }
      ]
    },
    {
      "cell_type": "code",
      "metadata": {
        "id": "ic36pVltB_bZ"
      },
      "source": [
        "#vstack([]) : 옆으로 붙는다 hstack([]) : 옆으로 \n",
        "#np.dstack([]) : 깊이이므로 3차원으로 연결\n",
        "#np.stack([]) : 새로운 차원으로 붙는다\n"
      ],
      "execution_count": 101,
      "outputs": []
    },
    {
      "cell_type": "code",
      "metadata": {
        "colab": {
          "base_uri": "https://localhost:8080/"
        },
        "id": "_u76CmkMTrM8",
        "outputId": "cc953f04-d953-418e-d0f5-3c7f68e2d251"
      },
      "source": [
        "#배열 분할\n",
        "a1 = np.arange(0,10)\n",
        "print(a1)\n",
        "b1, c1 = np.split(a1,[5]) #5는 기준점\n",
        "print(b1, c1)\n",
        "b1, c1, d1, e1 ,f1 = np.split(a1, [2,4,6,8])\n",
        "print(b1, c1, d1, e1 ,f1)"
      ],
      "execution_count": 104,
      "outputs": [
        {
          "output_type": "stream",
          "text": [
            "[0 1 2 3 4 5 6 7 8 9]\n",
            "[0 1 2 3 4] [5 6 7 8 9]\n",
            "[0 1] [2 3] [4 5] [6 7] [8 9]\n"
          ],
          "name": "stdout"
        }
      ]
    },
    {
      "cell_type": "code",
      "metadata": {
        "colab": {
          "base_uri": "https://localhost:8080/"
        },
        "id": "DbZzrsZXT_S8",
        "outputId": "3a7557e0-7d9e-4372-c281-b8aafbada93d"
      },
      "source": [
        "a2 = np.arange(1,10).reshape(3,3)\n",
        "print(a2)\n",
        "b2 ,c2 = np.vsplit(a2,[2]) #2번째 줄에서 끊어짐\n",
        "print(b2)\n",
        "print(c2)\n",
        "b2 ,c2 = np.hsplit(a2,[2]) #2번째 열에서 끊어짐\n",
        "print(b2)\n",
        "print(c2)"
      ],
      "execution_count": 107,
      "outputs": [
        {
          "output_type": "stream",
          "text": [
            "[[1 2 3]\n",
            " [4 5 6]\n",
            " [7 8 9]]\n",
            "[[1 2 3]\n",
            " [4 5 6]]\n",
            "[[7 8 9]]\n",
            "[[1 2]\n",
            " [4 5]\n",
            " [7 8]]\n",
            "[[3]\n",
            " [6]\n",
            " [9]]\n"
          ],
          "name": "stdout"
        }
      ]
    },
    {
      "cell_type": "code",
      "metadata": {
        "colab": {
          "base_uri": "https://localhost:8080/"
        },
        "id": "IjKHxeM1T_Zh",
        "outputId": "f3ae1295-dbb3-4fe0-a000-5ad94eae7367"
      },
      "source": [
        "a2 = np.arange(1,28).reshape(3,3,3)\n",
        "print(a2)\n",
        "b2 ,c2 = np.dsplit(a2,[2]) #2번째 줄에서 끊어짐\n",
        "print(b2)\n",
        "print(c2)"
      ],
      "execution_count": 108,
      "outputs": [
        {
          "output_type": "stream",
          "text": [
            "[[[ 1  2  3]\n",
            "  [ 4  5  6]\n",
            "  [ 7  8  9]]\n",
            "\n",
            " [[10 11 12]\n",
            "  [13 14 15]\n",
            "  [16 17 18]]\n",
            "\n",
            " [[19 20 21]\n",
            "  [22 23 24]\n",
            "  [25 26 27]]]\n",
            "[[[ 1  2]\n",
            "  [ 4  5]\n",
            "  [ 7  8]]\n",
            "\n",
            " [[10 11]\n",
            "  [13 14]\n",
            "  [16 17]]\n",
            "\n",
            " [[19 20]\n",
            "  [22 23]\n",
            "  [25 26]]]\n",
            "[[[ 3]\n",
            "  [ 6]\n",
            "  [ 9]]\n",
            "\n",
            " [[12]\n",
            "  [15]\n",
            "  [18]]\n",
            "\n",
            " [[21]\n",
            "  [24]\n",
            "  [27]]]\n"
          ],
          "name": "stdout"
        }
      ]
    },
    {
      "cell_type": "code",
      "metadata": {
        "colab": {
          "base_uri": "https://localhost:8080/"
        },
        "id": "Ye73_tdBT_gB",
        "outputId": "5ac0e52b-dfdc-4627-8a35-8b384230acd2"
      },
      "source": [
        "#배열 연산 : 벡터화 연산(벡터 연산으로 어쩌구 가능), 범용 연산 가능\n",
        "#반복전 계산이 최소화, 효율적\n",
        "#브로드캐스팅 : 다른 모양(혹은 차원)을 가져도 그만큼 늘어나서 계산이 가능해진다 [1,2,3] + [[1],[2],[3]]의 계산 가능\n",
        "a1 = np.array([1,2,3])\n",
        "a2 = np.arange(1,10).reshape(3,3)\n",
        "print(a2)\n",
        "print(a2 + a1)\n",
        "\n",
        "b2 = np.array([1,2,3]).reshape(3,1)\n",
        "print(b2)\n",
        "print(a1 + b2)"
      ],
      "execution_count": 111,
      "outputs": [
        {
          "output_type": "stream",
          "text": [
            "[[1 2 3]\n",
            " [4 5 6]\n",
            " [7 8 9]]\n",
            "[[ 2  4  6]\n",
            " [ 5  7  9]\n",
            " [ 8 10 12]]\n",
            "[[1]\n",
            " [2]\n",
            " [3]]\n",
            "[[2 3 4]\n",
            " [3 4 5]\n",
            " [4 5 6]]\n"
          ],
          "name": "stdout"
        }
      ]
    },
    {
      "cell_type": "code",
      "metadata": {
        "colab": {
          "base_uri": "https://localhost:8080/"
        },
        "id": "XNnOfEp5VYBB",
        "outputId": "c7a96cab-e8c0-4779-ffa4-ac7f7f5fb4e0"
      },
      "source": [
        "#산술연산(arithmetic operators)\n",
        "a1 = np.arange(1,10)\n",
        "print(a1 +1 )\n",
        "print(np.add(a1,10))\n",
        "print(np.subtract(a1,10))\n",
        "print(-a1)\n",
        "print(np.negative(a1))\n",
        "print(np.multiply(a1,2))\n",
        "print(np.divide(a1,2))\n",
        "print(np.floor_divide(a1,2)) #// 내림연산\n",
        "print(np.power(a1,2))\n",
        "print(np.power(2,a1))\n",
        "print(np.mod(a1,2)) #나머지 연산 %"
      ],
      "execution_count": 124,
      "outputs": [
        {
          "output_type": "stream",
          "text": [
            "[ 2  3  4  5  6  7  8  9 10]\n",
            "[11 12 13 14 15 16 17 18 19]\n",
            "[-9 -8 -7 -6 -5 -4 -3 -2 -1]\n",
            "[-1 -2 -3 -4 -5 -6 -7 -8 -9]\n",
            "[-1 -2 -3 -4 -5 -6 -7 -8 -9]\n",
            "[ 2  4  6  8 10 12 14 16 18]\n",
            "[0.5 1.  1.5 2.  2.5 3.  3.5 4.  4.5]\n",
            "[0 1 1 2 2 3 3 4 4]\n",
            "[ 1  4  9 16 25 36 49 64 81]\n",
            "[  2   4   8  16  32  64 128 256 512]\n",
            "[1 0 1 0 1 0 1 0 1]\n"
          ],
          "name": "stdout"
        }
      ]
    },
    {
      "cell_type": "code",
      "metadata": {
        "colab": {
          "base_uri": "https://localhost:8080/"
        },
        "id": "8BviKlvTT_mO",
        "outputId": "36ecd6f8-719a-4cb8-97d2-e3138734c0d0"
      },
      "source": [
        "a1 = np.arange(1,10)\n",
        "print(a1)\n",
        "b1 = np.random.randint(1,10, size=9)\n",
        "print(b1)\n",
        "print(a1 + b1)\n",
        "print(a1 * b1)\n",
        "print(a1 /b1)\n",
        "print(a1 // b1)\n",
        "print(a1 **b1)\n",
        "print(a1 % b1)"
      ],
      "execution_count": 127,
      "outputs": [
        {
          "output_type": "stream",
          "text": [
            "[1 2 3 4 5 6 7 8 9]\n",
            "[6 6 9 6 4 5 2 8 9]\n",
            "[ 7  8 12 10  9 11  9 16 18]\n",
            "[ 6 12 27 24 20 30 14 64 81]\n",
            "[0.16666667 0.33333333 0.33333333 0.66666667 1.25       1.2\n",
            " 3.5        1.         1.        ]\n",
            "[0 0 0 0 1 1 3 1 1]\n",
            "[        1        64     19683      4096       625      7776        49\n",
            "  16777216 387420489]\n",
            "[1 2 3 4 1 1 1 0 0]\n"
          ],
          "name": "stdout"
        }
      ]
    },
    {
      "cell_type": "code",
      "metadata": {
        "colab": {
          "base_uri": "https://localhost:8080/"
        },
        "id": "IgD53WUjT_sL",
        "outputId": "f784fb09-43c3-4aab-d4bf-caae7d14adb4"
      },
      "source": [
        "a1 = np.arange(1,10).reshape(3,3)\n",
        "print(a1)\n",
        "b1 = np.random.randint(1,3, size =3)\n",
        "print(b1)\n",
        "print(a1 + b1)\n",
        "print(a1 * b1)\n",
        "print(a1 /b1)\n",
        "print(a1 // b1)\n",
        "print(a1 **b1)\n",
        "print(a1%b1)"
      ],
      "execution_count": 129,
      "outputs": [
        {
          "output_type": "stream",
          "text": [
            "[[1 2 3]\n",
            " [4 5 6]\n",
            " [7 8 9]]\n",
            "[2 1 2]\n",
            "[[ 3  3  5]\n",
            " [ 6  6  8]\n",
            " [ 9  9 11]]\n",
            "[[ 2  2  6]\n",
            " [ 8  5 12]\n",
            " [14  8 18]]\n",
            "[[0.5 2.  1.5]\n",
            " [2.  5.  3. ]\n",
            " [3.5 8.  4.5]]\n",
            "[[0 2 1]\n",
            " [2 5 3]\n",
            " [3 8 4]]\n",
            "[[ 1  2  9]\n",
            " [16  5 36]\n",
            " [49  8 81]]\n",
            "[[1 0 1]\n",
            " [0 0 0]\n",
            " [1 0 1]]\n"
          ],
          "name": "stdout"
        }
      ]
    },
    {
      "cell_type": "code",
      "metadata": {
        "colab": {
          "base_uri": "https://localhost:8080/"
        },
        "id": "Z7kHj23OT_yC",
        "outputId": "9e7bb53e-a5ed-4e99-b73b-34eaa4b654c3"
      },
      "source": [
        "#절댓값\n",
        "a1 = np.random.randint(-10,10,size=5)\n",
        "print(a1)\n",
        "print(np.absolute(a1)) #abs도 가능\n",
        "#제곱, 제곱근 함수\n",
        "print(np.sqrt(a1))\n",
        "#지수와 로그함수\n",
        "a1 = np.random.randint(1,10,size=5)\n",
        "print(a1)\n",
        "print(np.exp(a1))\n",
        "print(np.exp2(a1))\n",
        "print(np.power(a1,2))\n",
        "print(np.log(a1))\n",
        "print(np.log10(a1))"
      ],
      "execution_count": 135,
      "outputs": [
        {
          "output_type": "stream",
          "text": [
            "[ 6  8 -6 -2  0]\n",
            "[6 8 6 2 0]\n",
            "[2.44948974 2.82842712        nan        nan 0.        ]\n",
            "[5 3 5 5 9]\n",
            "[ 148.4131591    20.08553692  148.4131591   148.4131591  8103.08392758]\n",
            "[ 32.   8.  32.  32. 512.]\n",
            "[25  9 25 25 81]\n",
            "[1.60943791 1.09861229 1.60943791 1.60943791 2.19722458]\n",
            "[0.69897    0.47712125 0.69897    0.69897    0.95424251]\n"
          ],
          "name": "stdout"
        },
        {
          "output_type": "stream",
          "text": [
            "/usr/local/lib/python3.7/dist-packages/ipykernel_launcher.py:6: RuntimeWarning: invalid value encountered in sqrt\n",
            "  \n"
          ],
          "name": "stderr"
        }
      ]
    },
    {
      "cell_type": "code",
      "metadata": {
        "colab": {
          "base_uri": "https://localhost:8080/"
        },
        "id": "x18lPinZYpih",
        "outputId": "6551f9f0-86b8-4e45-d5d4-0520351d811b"
      },
      "source": [
        "#삼각함수도 다 가능 deg2rad도 가능\n",
        "t = np.linspace(0, np.pi, 3)\n",
        "print(t)\n",
        "print(np.sin(t))\n",
        "print(np.cos(t))\n",
        "print(np.tan(t))\n",
        "x = [-1, 0, 1]\n",
        "print(x)\n",
        "print(np.arcsin(x))"
      ],
      "execution_count": 137,
      "outputs": [
        {
          "output_type": "stream",
          "text": [
            "[0.         1.57079633 3.14159265]\n",
            "[0.0000000e+00 1.0000000e+00 1.2246468e-16]\n",
            "[ 1.000000e+00  6.123234e-17 -1.000000e+00]\n",
            "[ 0.00000000e+00  1.63312394e+16 -1.22464680e-16]\n",
            "[-1, 0, 1]\n",
            "[-1.57079633  0.          1.57079633]\n"
          ],
          "name": "stdout"
        }
      ]
    },
    {
      "cell_type": "code",
      "metadata": {
        "colab": {
          "base_uri": "https://localhost:8080/"
        },
        "id": "ssdWGJ8mYpoV",
        "outputId": "dfebabd9-a7b8-48dd-e4fc-a7c25e8ab9ae"
      },
      "source": [
        "#집계 함수 nan안전 모드도 있다(집계 함수는 숫자만 가능하므로)\n",
        "a2 = np.random.randint(1,10,size=(3,3))\n",
        "print(a2)\n",
        "print(a2.sum(), np.sum(a2))\n",
        "print(a2.sum(axis=0), np.sum(a2, axis=0)) #아래로 같은 줄들의 합\n",
        "print(a2.sum(axis=1), np.sum(a2, axis=1)) #옆으로 같은 줄들의 합"
      ],
      "execution_count": 139,
      "outputs": [
        {
          "output_type": "stream",
          "text": [
            "[[2 8 3]\n",
            " [2 6 8]\n",
            " [3 4 2]]\n",
            "38 38\n",
            "[ 7 18 13] [ 7 18 13]\n",
            "[13 16  9] [13 16  9]\n"
          ],
          "name": "stdout"
        }
      ]
    },
    {
      "cell_type": "code",
      "metadata": {
        "colab": {
          "base_uri": "https://localhost:8080/"
        },
        "id": "QDCmhZXiYqDK",
        "outputId": "aff5dc2d-8c60-4521-fb7c-408742de8e6e"
      },
      "source": [
        "print(a2)\n",
        "print(np.cumsum(a2))\n",
        "print(np.cumsum(a2, axis=0)) #아래로 같은 줄들의 누적합\n",
        "print(np.cumsum(a2, axis=1)) #옆으로 같은 줄들의 누적합"
      ],
      "execution_count": 140,
      "outputs": [
        {
          "output_type": "stream",
          "text": [
            "[[2 8 3]\n",
            " [2 6 8]\n",
            " [3 4 2]]\n",
            "[ 2 10 13 15 21 29 32 36 38]\n",
            "[[ 2  8  3]\n",
            " [ 4 14 11]\n",
            " [ 7 18 13]]\n",
            "[[ 2 10 13]\n",
            " [ 2  8 16]\n",
            " [ 3  7  9]]\n"
          ],
          "name": "stdout"
        }
      ]
    },
    {
      "cell_type": "code",
      "metadata": {
        "colab": {
          "base_uri": "https://localhost:8080/"
        },
        "id": "Kwvaeg_LYqJl",
        "outputId": "78f8a19a-210d-4f62-98fb-7895f2097bbd"
      },
      "source": [
        "print(a2)\n",
        "print(np.diff(a2))\n",
        "print(np.diff(a2, axis=0)) #아래로 같은 줄들의 차분\n",
        "print(np.diff(a2, axis=1)) #옆으로 같은 줄들의 차분"
      ],
      "execution_count": 142,
      "outputs": [
        {
          "output_type": "stream",
          "text": [
            "[[2 8 3]\n",
            " [2 6 8]\n",
            " [3 4 2]]\n",
            "[[ 6 -5]\n",
            " [ 4  2]\n",
            " [ 1 -2]]\n",
            "[[ 0 -2  5]\n",
            " [ 1 -2 -6]]\n",
            "[[ 6 -5]\n",
            " [ 4  2]\n",
            " [ 1 -2]]\n"
          ],
          "name": "stdout"
        }
      ]
    },
    {
      "cell_type": "code",
      "metadata": {
        "colab": {
          "base_uri": "https://localhost:8080/"
        },
        "id": "If2S6ScwbaFL",
        "outputId": "9eaf407a-f521-4eb8-8e66-df83b099adbf"
      },
      "source": [
        "print(a2)\n",
        "print(np.prod(a2))\n",
        "print(np.prod(a2, axis=0)) #아래로 같은 줄들의 내적곱\n",
        "print(np.prod(a2, axis=1)) #옆으로 같은 줄들의 내적곱"
      ],
      "execution_count": 143,
      "outputs": [
        {
          "output_type": "stream",
          "text": [
            "[[2 8 3]\n",
            " [2 6 8]\n",
            " [3 4 2]]\n",
            "110592\n",
            "[ 12 192  48]\n",
            "[48 96 24]\n"
          ],
          "name": "stdout"
        }
      ]
    },
    {
      "cell_type": "code",
      "metadata": {
        "colab": {
          "base_uri": "https://localhost:8080/"
        },
        "id": "mFfwAcIHT_4O",
        "outputId": "dd6109f7-40ee-425c-f5b1-ff2ebe27f475"
      },
      "source": [
        "print(a2)\n",
        "print(np.cumprod(a2))\n",
        "print(np.cumprod(a2, axis=0)) #아래로 같은 줄들의 누적곱\n",
        "print(np.cumprod(a2, axis=1)) #옆으로 같은 줄들의 누적곱"
      ],
      "execution_count": 145,
      "outputs": [
        {
          "output_type": "stream",
          "text": [
            "[[2 8 3]\n",
            " [2 6 8]\n",
            " [3 4 2]]\n",
            "[     2     16     48     96    576   4608  13824  55296 110592]\n",
            "[[  2   8   3]\n",
            " [  4  48  24]\n",
            " [ 12 192  48]]\n",
            "[[ 2 16 48]\n",
            " [ 2 12 96]\n",
            " [ 3 12 24]]\n"
          ],
          "name": "stdout"
        }
      ]
    },
    {
      "cell_type": "code",
      "metadata": {
        "colab": {
          "base_uri": "https://localhost:8080/"
        },
        "id": "_GHm2ZsDbuO1",
        "outputId": "12b9fe3a-acc5-4c6d-9fea-434aa402cc9d"
      },
      "source": [
        "print(a2)\n",
        "b2 = np.ones_like(a2)\n",
        "print(b2)\n",
        "print(np.dot(a2,b2)) #점곱, 행렬곱 (2*1 + 8 *1 + 3 * 1 = 13) 다음줄도 동일\n",
        "print(np.matmul(a2,b2))"
      ],
      "execution_count": 147,
      "outputs": [
        {
          "output_type": "stream",
          "text": [
            "[[2 8 3]\n",
            " [2 6 8]\n",
            " [3 4 2]]\n",
            "[[1 1 1]\n",
            " [1 1 1]\n",
            " [1 1 1]]\n",
            "[[13 13 13]\n",
            " [16 16 16]\n",
            " [ 9  9  9]]\n",
            "[[13 13 13]\n",
            " [16 16 16]\n",
            " [ 9  9  9]]\n"
          ],
          "name": "stdout"
        }
      ]
    },
    {
      "cell_type": "code",
      "metadata": {
        "colab": {
          "base_uri": "https://localhost:8080/"
        },
        "id": "w14_xflkbuUP",
        "outputId": "d072f3d1-d7d8-4723-d07c-d38bb93daeb0"
      },
      "source": [
        "print(a2)\n",
        "print(b2)\n",
        "print(np.tensordot(a2,b2)) #그냥 dotproduct\n",
        "print(np.tensordot(a2,b2,axes = 0)) #다 2, 다8, 다3\n",
        "print(np.tensordot(a2,b2, axes = 1)) # dotproduct"
      ],
      "execution_count": 150,
      "outputs": [
        {
          "output_type": "stream",
          "text": [
            "[[2 8 3]\n",
            " [2 6 8]\n",
            " [3 4 2]]\n",
            "[[1 1 1]\n",
            " [1 1 1]\n",
            " [1 1 1]]\n",
            "38\n",
            "[[[[2 2 2]\n",
            "   [2 2 2]\n",
            "   [2 2 2]]\n",
            "\n",
            "  [[8 8 8]\n",
            "   [8 8 8]\n",
            "   [8 8 8]]\n",
            "\n",
            "  [[3 3 3]\n",
            "   [3 3 3]\n",
            "   [3 3 3]]]\n",
            "\n",
            "\n",
            " [[[2 2 2]\n",
            "   [2 2 2]\n",
            "   [2 2 2]]\n",
            "\n",
            "  [[6 6 6]\n",
            "   [6 6 6]\n",
            "   [6 6 6]]\n",
            "\n",
            "  [[8 8 8]\n",
            "   [8 8 8]\n",
            "   [8 8 8]]]\n",
            "\n",
            "\n",
            " [[[3 3 3]\n",
            "   [3 3 3]\n",
            "   [3 3 3]]\n",
            "\n",
            "  [[4 4 4]\n",
            "   [4 4 4]\n",
            "   [4 4 4]]\n",
            "\n",
            "  [[2 2 2]\n",
            "   [2 2 2]\n",
            "   [2 2 2]]]]\n",
            "[[13 13 13]\n",
            " [16 16 16]\n",
            " [ 9  9  9]]\n"
          ],
          "name": "stdout"
        }
      ]
    },
    {
      "cell_type": "code",
      "metadata": {
        "colab": {
          "base_uri": "https://localhost:8080/"
        },
        "id": "nzWlOaOTbuav",
        "outputId": "613d5780-59ac-4a9d-f8b7-d5781ed8cca8"
      },
      "source": [
        "x = [1,2,3]\n",
        "y = [4,5,6]\n",
        "print(np.cross(x,y)) #벡터곱"
      ],
      "execution_count": 151,
      "outputs": [
        {
          "output_type": "stream",
          "text": [
            "[-3  6 -3]\n"
          ],
          "name": "stdout"
        }
      ]
    },
    {
      "cell_type": "code",
      "metadata": {
        "colab": {
          "base_uri": "https://localhost:8080/"
        },
        "id": "O01lJOSbbufg",
        "outputId": "feeab5b9-5bb0-4959-d512-3ac4462d316d"
      },
      "source": [
        "print(a2)\n",
        "print(b2)\n",
        "print(np.inner(a2,b2)) #내적\n",
        "print(np.outer(a2,b2)) #외적 9개씩 풀어진 형태"
      ],
      "execution_count": 154,
      "outputs": [
        {
          "output_type": "stream",
          "text": [
            "[[2 8 3]\n",
            " [2 6 8]\n",
            " [3 4 2]]\n",
            "[[1 1 1]\n",
            " [1 1 1]\n",
            " [1 1 1]]\n",
            "[[13 13 13]\n",
            " [16 16 16]\n",
            " [ 9  9  9]]\n",
            "[[2 2 2 2 2 2 2 2 2]\n",
            " [8 8 8 8 8 8 8 8 8]\n",
            " [3 3 3 3 3 3 3 3 3]\n",
            " [2 2 2 2 2 2 2 2 2]\n",
            " [6 6 6 6 6 6 6 6 6]\n",
            " [8 8 8 8 8 8 8 8 8]\n",
            " [3 3 3 3 3 3 3 3 3]\n",
            " [4 4 4 4 4 4 4 4 4]\n",
            " [2 2 2 2 2 2 2 2 2]]\n"
          ],
          "name": "stdout"
        }
      ]
    },
    {
      "cell_type": "code",
      "metadata": {
        "colab": {
          "base_uri": "https://localhost:8080/"
        },
        "id": "5vblKnAve8DS",
        "outputId": "ae2efb09-6fb6-46ce-a780-a3cb3fc9ed77"
      },
      "source": [
        "print(a2)\n",
        "print(np.mean(a2))\n",
        "print(np.mean(a2, axis= 0))\n",
        "print(np.mean(a2, axis=1))"
      ],
      "execution_count": 157,
      "outputs": [
        {
          "output_type": "stream",
          "text": [
            "[[2 8 3]\n",
            " [2 6 8]\n",
            " [3 4 2]]\n",
            "4.222222222222222\n",
            "[2.33333333 6.         4.33333333]\n",
            "[4.33333333 5.33333333 3.        ]\n"
          ],
          "name": "stdout"
        }
      ]
    },
    {
      "cell_type": "code",
      "metadata": {
        "colab": {
          "base_uri": "https://localhost:8080/"
        },
        "id": "kNGE-GDQe8Ii",
        "outputId": "07bb1921-9a91-4db9-b8c9-f26bcfab34d7"
      },
      "source": [
        "print(a2)\n",
        "print(np.std(a2))\n",
        "print(np.std(a2, axis= 0))\n",
        "print(np.std(a2, axis=1))"
      ],
      "execution_count": 158,
      "outputs": [
        {
          "output_type": "stream",
          "text": [
            "[[2 8 3]\n",
            " [2 6 8]\n",
            " [3 4 2]]\n",
            "2.3465235646603193\n",
            "[0.47140452 1.63299316 2.62466929]\n",
            "[2.62466929 2.49443826 0.81649658]\n"
          ],
          "name": "stdout"
        }
      ]
    },
    {
      "cell_type": "code",
      "metadata": {
        "colab": {
          "base_uri": "https://localhost:8080/"
        },
        "id": "wJDUP2Mue8Nz",
        "outputId": "c50bf27a-5ea2-42ec-f304-f8754959552b"
      },
      "source": [
        "print(a2)\n",
        "print(np.var(a2))\n",
        "print(np.var(a2, axis= 0))\n",
        "print(np.var(a2, axis=1)) #min과 max도 가능하다"
      ],
      "execution_count": 159,
      "outputs": [
        {
          "output_type": "stream",
          "text": [
            "[[2 8 3]\n",
            " [2 6 8]\n",
            " [3 4 2]]\n",
            "5.506172839506172\n",
            "[0.22222222 2.66666667 6.88888889]\n",
            "[6.88888889 6.22222222 0.66666667]\n"
          ],
          "name": "stdout"
        }
      ]
    },
    {
      "cell_type": "code",
      "metadata": {
        "colab": {
          "base_uri": "https://localhost:8080/"
        },
        "id": "JonA2YiIe8Ss",
        "outputId": "fa872de2-5408-4171-d920-39d07704ba15"
      },
      "source": [
        "#index값도 출력할 수 있다\n",
        "print(a2)\n",
        "print(np.argmax(a2))\n",
        "print(np.argmin(a2, axis= 0))\n",
        "print(np.argmin(a2, axis=1)) "
      ],
      "execution_count": 161,
      "outputs": [
        {
          "output_type": "stream",
          "text": [
            "[[2 8 3]\n",
            " [2 6 8]\n",
            " [3 4 2]]\n",
            "1\n",
            "[0 2 2]\n",
            "[0 0 2]\n"
          ],
          "name": "stdout"
        }
      ]
    },
    {
      "cell_type": "code",
      "metadata": {
        "colab": {
          "base_uri": "https://localhost:8080/"
        },
        "id": "AQ7wdnv8e8X6",
        "outputId": "31327cf6-2428-4695-a7e9-d8296ddbf641"
      },
      "source": [
        "print(a2)\n",
        "print(np.median(a2))\n",
        "print(np.median(a2, axis= 0)) #2 2 3의 중앙값은 2\n",
        "print(np.median(a2, axis=1))  #2 8 3의 중앙값은 3"
      ],
      "execution_count": 162,
      "outputs": [
        {
          "output_type": "stream",
          "text": [
            "[[2 8 3]\n",
            " [2 6 8]\n",
            " [3 4 2]]\n",
            "3.0\n",
            "[2. 6. 3.]\n",
            "[3. 6. 3.]\n"
          ],
          "name": "stdout"
        }
      ]
    },
    {
      "cell_type": "code",
      "metadata": {
        "colab": {
          "base_uri": "https://localhost:8080/"
        },
        "id": "-0wZlxFObulS",
        "outputId": "c8e69fd9-b934-4bdf-da84-db78f39ecd6a"
      },
      "source": [
        "#백분위수 \n",
        "a1 = np.array([0, 1, 2,3])\n",
        "print(a1)\n",
        "print(np.percentile(a1,[0,20,40,60,80,100], interpolation='linear')) #선형으로 증가\n",
        "print(np.percentile(a1,[0,20,40,60,80,100], interpolation='higher')) # 0은 0 20은 1 40은 2 60도 2 80은 3 100도 3\n",
        "print(np.percentile(a1,[0,20,40,60,80,100], interpolation='lower')) # 0은 0 40은 1 60은 1 80은 2 100은 3\n",
        "print(np.percentile(a1,[0,20,40,60,80,100], interpolation='nearest')) #20은 1 40은 1 60은 2  80은 2 100은 3\n",
        "print(np.percentile(a1,[0,20,40,60,80,100], interpolation='midpoint')) #20은 0.5 40은 1.5 60은 1.5 80은 2.5 100은 3"
      ],
      "execution_count": 166,
      "outputs": [
        {
          "output_type": "stream",
          "text": [
            "[0 1 2 3]\n",
            "[0.  0.6 1.2 1.8 2.4 3. ]\n",
            "[0 1 2 2 3 3]\n",
            "[0 0 1 1 2 3]\n",
            "[0 1 1 2 2 3]\n",
            "[0.  0.5 1.5 1.5 2.5 3. ]\n"
          ],
          "name": "stdout"
        }
      ]
    },
    {
      "cell_type": "code",
      "metadata": {
        "colab": {
          "base_uri": "https://localhost:8080/"
        },
        "id": "HrxcHveRlXPY",
        "outputId": "23b8301a-7a52-48e4-fa2b-3e8e4f406162"
      },
      "source": [
        "a2 = np.array([[False, False, False],[False, True, True],[False, True, True]])\n",
        "print(a2)\n",
        "print(np.any(a2)) #하나라도 true면 전체 true\n",
        "print(np.any(a2, axis = 0)) #-0이면 아래로 FFF이니까 False, FTT니까 T, FTT니까 T\n",
        "print(np.any(a2, axis = 1)) #1이면 옆으로 FFF이니까 False, FTT니까 T, 이하동일"
      ],
      "execution_count": 168,
      "outputs": [
        {
          "output_type": "stream",
          "text": [
            "[[False False False]\n",
            " [False  True  True]\n",
            " [False  True  True]]\n",
            "True\n",
            "[False  True  True]\n",
            "[False  True  True]\n"
          ],
          "name": "stdout"
        }
      ]
    },
    {
      "cell_type": "code",
      "metadata": {
        "colab": {
          "base_uri": "https://localhost:8080/"
        },
        "id": "Sm2t7r_rlXTk",
        "outputId": "54f9d47d-5a71-42dd-9fe8-df813afec8f5"
      },
      "source": [
        "a2 = np.array([[False, False, True],[True, True, True],[False, True, True]])\n",
        "print(a2)\n",
        "print(np.all(a2)) #다 true여야 true\n",
        "print(np.all(a2, axis = 0)) #-0이면 아래로\n",
        "print(np.all(a2, axis = 1))"
      ],
      "execution_count": 171,
      "outputs": [
        {
          "output_type": "stream",
          "text": [
            "[[False False  True]\n",
            " [ True  True  True]\n",
            " [False  True  True]]\n",
            "False\n",
            "[False False  True]\n",
            "[False  True False]\n"
          ],
          "name": "stdout"
        }
      ]
    },
    {
      "cell_type": "code",
      "metadata": {
        "colab": {
          "base_uri": "https://localhost:8080/"
        },
        "id": "FNTsJrwVlXXA",
        "outputId": "702bb845-0c2d-43bf-e95c-47fcdb80320f"
      },
      "source": [
        "#비교연산(comparison operator)\n",
        "a1 = np.arange(1,10)\n",
        "print(a1)\n",
        "print(a1 == 5) #TF의 위치 결과값을 반환\n",
        "print(a1 <= 5)\n",
        "a2 = np.arange(1,10).reshape(3,3)\n",
        "print(a2)\n",
        "print(np.sum(a2))\n",
        "print(np.count_nonzero(a2 >5)) #개수를 세줘\n",
        "print(np.sum(a2 >5)) #썸이 5초과\n",
        "print(np.sum(a2 >5, axis=0)) #1 4 7에서 5초과는 7 한개 \n",
        "print(np.sum(a2 >5, axis=1)) # 123에서 5초과는 없음\n"
      ],
      "execution_count": 178,
      "outputs": [
        {
          "output_type": "stream",
          "text": [
            "[1 2 3 4 5 6 7 8 9]\n",
            "[False False False False  True False False False False]\n",
            "[ True  True  True  True  True False False False False]\n",
            "[[1 2 3]\n",
            " [4 5 6]\n",
            " [7 8 9]]\n",
            "45\n",
            "4\n",
            "4\n",
            "[1 1 2]\n",
            "[0 1 3]\n"
          ],
          "name": "stdout"
        }
      ]
    },
    {
      "cell_type": "code",
      "metadata": {
        "colab": {
          "base_uri": "https://localhost:8080/"
        },
        "id": "ootyajWFnQbG",
        "outputId": "891a2a25-d184-4b4a-82e0-92b38d754486"
      },
      "source": [
        "print(a2)\n",
        "print(np.any(a2 >5)) #all도 가능\n",
        "print(np.any(a2 >5, axis=0)) #1 4 7에서 5초과\n",
        "print(np.any(a2 >5, axis=1)) # 123에서 5초과"
      ],
      "execution_count": 179,
      "outputs": [
        {
          "output_type": "stream",
          "text": [
            "[[1 2 3]\n",
            " [4 5 6]\n",
            " [7 8 9]]\n",
            "True\n",
            "[ True  True  True]\n",
            "[False  True  True]\n"
          ],
          "name": "stdout"
        }
      ]
    },
    {
      "cell_type": "code",
      "metadata": {
        "colab": {
          "base_uri": "https://localhost:8080/"
        },
        "id": "SN0aWzsEnQgC",
        "outputId": "3a600393-bfba-4694-9b02-377bff52414b"
      },
      "source": [
        "#비교 범용 함수\n",
        "a1 = np.array([1,2,3,4,5])\n",
        "print(a1)\n",
        "b1 = np.array([1, 2, 3, 3, 4])\n",
        "print(b1)\n",
        "print(np.isclose(a1, b1)) #값에 따라 같은지 다른지 TF"
      ],
      "execution_count": 180,
      "outputs": [
        {
          "output_type": "stream",
          "text": [
            "[1 2 3 4 5]\n",
            "[1 2 3 3 4]\n",
            "[ True  True  True False False]\n"
          ],
          "name": "stdout"
        }
      ]
    },
    {
      "cell_type": "code",
      "metadata": {
        "colab": {
          "base_uri": "https://localhost:8080/"
        },
        "id": "sEaamQS9nQlX",
        "outputId": "e428bb12-6752-4f0d-b301-7b7863074fba"
      },
      "source": [
        "a1 = np.array([np.nan, 2, np.inf, 4, np.NINF])\n",
        "print(a1)\n",
        "print(np.isnan(a1)) \n",
        "print(np.isinf(a1))\n",
        "print(np.isfinite(a1)) #무한대가 아닌 것"
      ],
      "execution_count": 184,
      "outputs": [
        {
          "output_type": "stream",
          "text": [
            "[ nan   2.  inf   4. -inf]\n",
            "[ True False False False False]\n",
            "[False False  True False  True]\n",
            "[False  True False  True False]\n"
          ],
          "name": "stdout"
        }
      ]
    },
    {
      "cell_type": "code",
      "metadata": {
        "colab": {
          "base_uri": "https://localhost:8080/"
        },
        "id": "bMYL-HcMnQpV",
        "outputId": "9d944596-1e33-44e8-c893-4cc3f5df07e5"
      },
      "source": [
        "a2 = np.arange(1, 10).reshape(3,3)\n",
        "print(a2)\n",
        "print((a2>5) & (a2<8)) #boolean 연산자\n",
        "print(a2[(a2>5) & (a2<8)]) #boolean indexing\n",
        "\n",
        "print((a2>5) | (a2<8)) #or\n",
        "print(a2[(a2>5) | (a2<8)]) #or\n",
        "\n",
        "print((a2>5) ^ (a2<8)) #or not 조건에 해당하는 67만 빼고 해당된다\n",
        "print(a2[(a2>5) ^ (a2<8)]) #or not\n",
        "\n",
        "print(~(a2>5)) #not\n",
        "print(a2[~(a2>5)]) #not"
      ],
      "execution_count": 187,
      "outputs": [
        {
          "output_type": "stream",
          "text": [
            "[[1 2 3]\n",
            " [4 5 6]\n",
            " [7 8 9]]\n",
            "[[False False False]\n",
            " [False False  True]\n",
            " [ True False False]]\n",
            "[6 7]\n",
            "[[ True  True  True]\n",
            " [ True  True  True]\n",
            " [ True  True  True]]\n",
            "[1 2 3 4 5 6 7 8 9]\n",
            "[[ True  True  True]\n",
            " [ True  True False]\n",
            " [False  True  True]]\n",
            "[1 2 3 4 5 8 9]\n",
            "[[ True  True  True]\n",
            " [ True  True False]\n",
            " [False False False]]\n",
            "[1 2 3 4 5]\n"
          ],
          "name": "stdout"
        }
      ]
    },
    {
      "cell_type": "code",
      "metadata": {
        "colab": {
          "base_uri": "https://localhost:8080/"
        },
        "id": "kBd7jLDWnQvm",
        "outputId": "4030be66-ba79-42c3-9581-653e814c4d44"
      },
      "source": [
        "#배열 정렬\n",
        "a1 = np.random.randint(1, 10, size=10)\n",
        "print(a1)\n",
        "print(np.sort(a1)) #정렬\n",
        "print(a1) #원본배열은 그대로\n",
        "print(np.argsort(a1)) #위치값 6번인 1이 맨앞이 갔다 등등\n",
        "print(a1) #원본 배열은 그대로\n",
        "print(a1.sort())\n",
        "print(a1)"
      ],
      "execution_count": 193,
      "outputs": [
        {
          "output_type": "stream",
          "text": [
            "[2 4 4 8 3 9 8 2 8 2]\n",
            "[2 2 2 3 4 4 8 8 8 9]\n",
            "[2 4 4 8 3 9 8 2 8 2]\n",
            "[0 7 9 4 1 2 3 6 8 5]\n",
            "[2 4 4 8 3 9 8 2 8 2]\n",
            "None\n",
            "[2 2 2 3 4 4 8 8 8 9]\n"
          ],
          "name": "stdout"
        }
      ]
    },
    {
      "cell_type": "code",
      "metadata": {
        "colab": {
          "base_uri": "https://localhost:8080/"
        },
        "id": "_XXzl4suudyn",
        "outputId": "5941f3d7-94cc-4ae4-b042-34aebf5f0f79"
      },
      "source": [
        "#2차원\n",
        "a2 = np.random.randint(1, 10, size= (3,3))\n",
        "print(a2)\n",
        "print(np.sort(a2, axis = 0)) #아래줄들끼리\n",
        "print(np.sort(a2, axis = 1)) #옆으로 "
      ],
      "execution_count": 195,
      "outputs": [
        {
          "output_type": "stream",
          "text": [
            "[[3 4 7]\n",
            " [1 3 2]\n",
            " [2 7 2]]\n",
            "[[1 3 2]\n",
            " [2 4 2]\n",
            " [3 7 7]]\n",
            "[[3 4 7]\n",
            " [1 2 3]\n",
            " [2 2 7]]\n"
          ],
          "name": "stdout"
        }
      ]
    },
    {
      "cell_type": "code",
      "metadata": {
        "colab": {
          "base_uri": "https://localhost:8080/"
        },
        "id": "aVv0zfvwnQ0Z",
        "outputId": "11877176-7fb3-428c-bb0c-44f6daf41896"
      },
      "source": [
        "#부분 정렬 배열에서 k개의 작은 값을 반환\n",
        "a1 = np.random.randint(1, 10, size=10)\n",
        "print(a1)\n",
        "print(np.partition(a1,3)) #가장 작은 값 3개 주셍ㅅ 324나옴\n",
        "a2 = np.random.randint(1, 10, size=(5,5))\n",
        "print(a2)\n",
        "print(np.partition(a2,3)) #모든 줄마다 작은 3개를 뽑아\n",
        "print(np.partition(a2,3, axis = 0)) #default와 동일\n",
        "print(np.partition(a2,3, axis = 1)) #col로"
      ],
      "execution_count": 198,
      "outputs": [
        {
          "output_type": "stream",
          "text": [
            "[8 1 9 3 3 8 2 6 7 3]\n",
            "[1 3 2 3 3 8 9 6 7 8]\n",
            "[[9 1 9 1 2]\n",
            " [8 7 6 9 4]\n",
            " [7 6 7 1 6]\n",
            " [6 1 2 2 1]\n",
            " [7 3 1 5 2]]\n",
            "[[1 2 1 9 9]\n",
            " [4 6 7 8 9]\n",
            " [1 6 6 7 7]\n",
            " [1 1 2 2 6]\n",
            " [1 2 3 5 7]]\n",
            "[[6 1 2 1 1]\n",
            " [7 1 1 1 2]\n",
            " [7 3 6 2 2]\n",
            " [8 6 7 5 4]\n",
            " [9 7 9 9 6]]\n",
            "[[1 2 1 9 9]\n",
            " [4 6 7 8 9]\n",
            " [1 6 6 7 7]\n",
            " [1 1 2 2 6]\n",
            " [1 2 3 5 7]]\n"
          ],
          "name": "stdout"
        }
      ]
    },
    {
      "cell_type": "code",
      "metadata": {
        "colab": {
          "base_uri": "https://localhost:8080/"
        },
        "id": "CucOkNm2lXc8",
        "outputId": "2b8ee421-87fd-445c-bc28-e3e5602741df"
      },
      "source": [
        "#배열 파일에서 입출력\n",
        "a2 = np.random.randint(1, 10, size=(5,5))\n",
        "print(a2)\n",
        "np.save(\"a\", a2)\n"
      ],
      "execution_count": 200,
      "outputs": [
        {
          "output_type": "stream",
          "text": [
            "[[9 5 4 7 1]\n",
            " [4 8 3 5 6]\n",
            " [6 1 4 2 2]\n",
            " [1 3 9 7 5]\n",
            " [9 8 6 5 9]]\n"
          ],
          "name": "stdout"
        }
      ]
    },
    {
      "cell_type": "code",
      "metadata": {
        "colab": {
          "base_uri": "https://localhost:8080/"
        },
        "id": "9-_ABGf1xxJI",
        "outputId": "2d0942c8-54cc-4125-adc5-fca9d9f2a4ad"
      },
      "source": [
        "!ls #바이너리 파일 사람은 읽ㅇ을 수 없어요"
      ],
      "execution_count": 201,
      "outputs": [
        {
          "output_type": "stream",
          "text": [
            "a.npy  sample_data\n"
          ],
          "name": "stdout"
        }
      ]
    },
    {
      "cell_type": "code",
      "metadata": {
        "colab": {
          "base_uri": "https://localhost:8080/"
        },
        "id": "L3v_ZI0XxxQw",
        "outputId": "d5cfdded-5bd7-44da-af5e-38025ddcd372"
      },
      "source": [
        "b2 = np.random.randint(1, 10, size= (5,5))\n",
        "print(b2)\n",
        "np.savez(\"ab\", a2, b2)\n"
      ],
      "execution_count": 203,
      "outputs": [
        {
          "output_type": "stream",
          "text": [
            "[[4 5 4 4 9]\n",
            " [1 9 4 9 7]\n",
            " [3 6 7 2 8]\n",
            " [4 9 4 2 7]\n",
            " [9 4 7 9 8]]\n"
          ],
          "name": "stdout"
        }
      ]
    },
    {
      "cell_type": "code",
      "metadata": {
        "colab": {
          "base_uri": "https://localhost:8080/"
        },
        "id": "ZCpOmu7WyHRq",
        "outputId": "73fbdb57-d1ba-405c-fe98-d960470bdaf0"
      },
      "source": [
        "!ls"
      ],
      "execution_count": 204,
      "outputs": [
        {
          "output_type": "stream",
          "text": [
            "ab.npz\ta.npy  sample_data\n"
          ],
          "name": "stdout"
        }
      ]
    },
    {
      "cell_type": "code",
      "metadata": {
        "colab": {
          "base_uri": "https://localhost:8080/"
        },
        "id": "9rXHHcbAxxeG",
        "outputId": "2ab287ff-69c7-4f41-a3b8-774adefbbb13"
      },
      "source": [
        "npy = np.load(\"a.npy\")\n",
        "print(npy) #처음 a2를 불러와"
      ],
      "execution_count": 205,
      "outputs": [
        {
          "output_type": "stream",
          "text": [
            "[[9 5 4 7 1]\n",
            " [4 8 3 5 6]\n",
            " [6 1 4 2 2]\n",
            " [1 3 9 7 5]\n",
            " [9 8 6 5 9]]\n"
          ],
          "name": "stdout"
        }
      ]
    },
    {
      "cell_type": "code",
      "metadata": {
        "colab": {
          "base_uri": "https://localhost:8080/"
        },
        "id": "DpKzF2CJxxlA",
        "outputId": "4b548453-e5e7-4404-88e5-f89a368c40ed"
      },
      "source": [
        "npz = np.load(\"ab.npz\")\n",
        "print(npz.files)\n",
        "print(npz['arr_0'])\n",
        "print(npz['arr_1'])"
      ],
      "execution_count": 207,
      "outputs": [
        {
          "output_type": "stream",
          "text": [
            "['arr_0', 'arr_1']\n",
            "[[9 5 4 7 1]\n",
            " [4 8 3 5 6]\n",
            " [6 1 4 2 2]\n",
            " [1 3 9 7 5]\n",
            " [9 8 6 5 9]]\n",
            "[[4 5 4 4 9]\n",
            " [1 9 4 9 7]\n",
            " [3 6 7 2 8]\n",
            " [4 9 4 2 7]\n",
            " [9 4 7 9 8]]\n"
          ],
          "name": "stdout"
        }
      ]
    },
    {
      "cell_type": "code",
      "metadata": {
        "colab": {
          "base_uri": "https://localhost:8080/"
        },
        "id": "gb0D19h-xKLq",
        "outputId": "35bf90a6-b5cc-45c9-fabd-ec676db17d55"
      },
      "source": [
        "print(a2)\n",
        "np.savetxt(\"a.csv\",a2, delimiter=',') #comma seperated values"
      ],
      "execution_count": 209,
      "outputs": [
        {
          "output_type": "stream",
          "text": [
            "[[9 5 4 7 1]\n",
            " [4 8 3 5 6]\n",
            " [6 1 4 2 2]\n",
            " [1 3 9 7 5]\n",
            " [9 8 6 5 9]]\n"
          ],
          "name": "stdout"
        }
      ]
    },
    {
      "cell_type": "code",
      "metadata": {
        "colab": {
          "base_uri": "https://localhost:8080/"
        },
        "id": "n-LtC79zymc8",
        "outputId": "4a11b116-f344-4e54-f2db-5cf8fed76877"
      },
      "source": [
        "!ls"
      ],
      "execution_count": 211,
      "outputs": [
        {
          "output_type": "stream",
          "text": [
            "ab.npz\ta.csv  a.npy  sample_data\n"
          ],
          "name": "stdout"
        }
      ]
    },
    {
      "cell_type": "code",
      "metadata": {
        "colab": {
          "base_uri": "https://localhost:8080/"
        },
        "id": "m9HTErDty4wP",
        "outputId": "dd3ab0bf-489f-43d6-feaa-fdaf9697121f"
      },
      "source": [
        "!cat a.csv #실수 형태로 출력(datatype은 저장을 할 수 없다)"
      ],
      "execution_count": 212,
      "outputs": [
        {
          "output_type": "stream",
          "text": [
            "9.000000000000000000e+00,5.000000000000000000e+00,4.000000000000000000e+00,7.000000000000000000e+00,1.000000000000000000e+00\n",
            "4.000000000000000000e+00,8.000000000000000000e+00,3.000000000000000000e+00,5.000000000000000000e+00,6.000000000000000000e+00\n",
            "6.000000000000000000e+00,1.000000000000000000e+00,4.000000000000000000e+00,2.000000000000000000e+00,2.000000000000000000e+00\n",
            "1.000000000000000000e+00,3.000000000000000000e+00,9.000000000000000000e+00,7.000000000000000000e+00,5.000000000000000000e+00\n",
            "9.000000000000000000e+00,8.000000000000000000e+00,6.000000000000000000e+00,5.000000000000000000e+00,9.000000000000000000e+00\n"
          ],
          "name": "stdout"
        }
      ]
    },
    {
      "cell_type": "code",
      "metadata": {
        "colab": {
          "base_uri": "https://localhost:8080/"
        },
        "id": "K5eNb9DZy47T",
        "outputId": "0d094086-74d4-4a9f-f036-406b36a67317"
      },
      "source": [
        "csv = np.loadtxt(\"a.csv\", delimiter=',') #구분자를 지정해준다\n",
        "print(csv) #정상적으로 나타남"
      ],
      "execution_count": 215,
      "outputs": [
        {
          "output_type": "stream",
          "text": [
            "[[9. 5. 4. 7. 1.]\n",
            " [4. 8. 3. 5. 6.]\n",
            " [6. 1. 4. 2. 2.]\n",
            " [1. 3. 9. 7. 5.]\n",
            " [9. 8. 6. 5. 9.]]\n"
          ],
          "name": "stdout"
        }
      ]
    },
    {
      "cell_type": "code",
      "metadata": {
        "colab": {
          "base_uri": "https://localhost:8080/"
        },
        "id": "CmnauMeny5Fk",
        "outputId": "022cfa12-abaa-45bf-fa4f-74b07d72a08b"
      },
      "source": [
        "print(b2)\n",
        "np.savetxt(\"b.csv\", b2, delimiter=',', fmt='%.2e', header = 'c1, c2, c3, c4, c5') #소수점"
      ],
      "execution_count": 218,
      "outputs": [
        {
          "output_type": "stream",
          "text": [
            "[[4 5 4 4 9]\n",
            " [1 9 4 9 7]\n",
            " [3 6 7 2 8]\n",
            " [4 9 4 2 7]\n",
            " [9 4 7 9 8]]\n"
          ],
          "name": "stdout"
        }
      ]
    },
    {
      "cell_type": "code",
      "metadata": {
        "colab": {
          "base_uri": "https://localhost:8080/"
        },
        "id": "cpZJLSnXziPB",
        "outputId": "6c7b44f1-bc80-4b6e-b703-28a141b7fd75"
      },
      "source": [
        "!cat b.csv"
      ],
      "execution_count": 220,
      "outputs": [
        {
          "output_type": "stream",
          "text": [
            "# c1, c2, c3, c4, c5\n",
            "4.00e+00,5.00e+00,4.00e+00,4.00e+00,9.00e+00\n",
            "1.00e+00,9.00e+00,4.00e+00,9.00e+00,7.00e+00\n",
            "3.00e+00,6.00e+00,7.00e+00,2.00e+00,8.00e+00\n",
            "4.00e+00,9.00e+00,4.00e+00,2.00e+00,7.00e+00\n",
            "9.00e+00,4.00e+00,7.00e+00,9.00e+00,8.00e+00\n"
          ],
          "name": "stdout"
        }
      ]
    },
    {
      "cell_type": "code",
      "metadata": {
        "colab": {
          "base_uri": "https://localhost:8080/"
        },
        "id": "Ne1_znNcz1n6",
        "outputId": "5b587ad8-531a-4c12-bbd0-46d9f85e6468"
      },
      "source": [
        "csv = np.loadtxt(\"b.csv\", delimiter=',')\n",
        "print(csv)"
      ],
      "execution_count": 221,
      "outputs": [
        {
          "output_type": "stream",
          "text": [
            "[[4. 5. 4. 4. 9.]\n",
            " [1. 9. 4. 9. 7.]\n",
            " [3. 6. 7. 2. 8.]\n",
            " [4. 9. 4. 2. 7.]\n",
            " [9. 4. 7. 9. 8.]]\n"
          ],
          "name": "stdout"
        }
      ]
    },
    {
      "cell_type": "code",
      "metadata": {
        "id": "0XwooWkjz1xr"
      },
      "source": [
        ""
      ],
      "execution_count": 220,
      "outputs": []
    },
    {
      "cell_type": "code",
      "metadata": {
        "id": "HwC9qXM6z15T"
      },
      "source": [
        ""
      ],
      "execution_count": 220,
      "outputs": []
    },
    {
      "cell_type": "code",
      "metadata": {
        "id": "LHknZM0yz2BK"
      },
      "source": [
        ""
      ],
      "execution_count": 220,
      "outputs": []
    },
    {
      "cell_type": "code",
      "metadata": {
        "id": "6wS0QFxmz2G4"
      },
      "source": [
        ""
      ],
      "execution_count": null,
      "outputs": []
    }
  ]
}